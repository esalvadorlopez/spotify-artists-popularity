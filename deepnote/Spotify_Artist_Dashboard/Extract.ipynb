{
  "cells": [
    {
      "cell_type": "markdown",
      "source": "### Setting ",
      "metadata": {
        "tags": [],
        "cell_id": "01778a7b92484c4d850f7993ac041367",
        "is_collapsed": false,
        "formattedRanges": [],
        "deepnote_cell_type": "text-cell-h3"
      },
      "block_group": "01778a7b92484c4d850f7993ac041367"
    },
    {
      "cell_type": "markdown",
      "source": "Install pandas QBQ",
      "metadata": {
        "tags": [],
        "cell_id": "2f12272bdda149c6b88610f104bc3def",
        "is_collapsed": false,
        "formattedRanges": [],
        "deepnote_cell_type": "text-cell-p"
      },
      "block_group": "2f12272bdda149c6b88610f104bc3def"
    },
    {
      "cell_type": "code",
      "source": "!pip install pandas-gbq",
      "metadata": {
        "tags": [],
        "cell_id": "91e13282d9c94950856accb3c7592666",
        "source_hash": null,
        "is_code_hidden": false,
        "execution_start": 1705087217632,
        "execution_millis": 3175,
        "is_output_hidden": true,
        "deepnote_to_be_reexecuted": false,
        "deepnote_cell_type": "code"
      },
      "outputs": [
        {
          "name": "stdout",
          "text": "Collecting pandas-gbq\n  Downloading pandas_gbq-0.20.0-py2.py3-none-any.whl (25 kB)\nRequirement already satisfied: google-auth>=2.13.0 in /shared-libs/python3.9/py/lib/python3.9/site-packages (from pandas-gbq) (2.21.0)\nCollecting pydata-google-auth>=1.5.0\n  Downloading pydata_google_auth-1.8.2-py2.py3-none-any.whl (15 kB)\nRequirement already satisfied: packaging>=20.0.0 in /shared-libs/python3.9/py-core/lib/python3.9/site-packages (from pandas-gbq) (21.3)\nCollecting google-auth-oauthlib>=0.7.0\n  Downloading google_auth_oauthlib-1.2.0-py2.py3-none-any.whl (24 kB)\nRequirement already satisfied: google-api-core<3.0.0dev,>=2.10.2 in /shared-libs/python3.9/py/lib/python3.9/site-packages (from pandas-gbq) (2.11.1)\nRequirement already satisfied: pandas>=1.1.4 in /shared-libs/python3.9/py/lib/python3.9/site-packages (from pandas-gbq) (1.2.5)\nRequirement already satisfied: google-cloud-bigquery-storage<3.0.0dev,>=2.16.2 in /shared-libs/python3.9/py/lib/python3.9/site-packages (from pandas-gbq) (2.16.2)\nRequirement already satisfied: google-cloud-bigquery!=2.4.*,<4.0.0dev,>=3.3.5 in /shared-libs/python3.9/py/lib/python3.9/site-packages (from pandas-gbq) (3.3.5)\nRequirement already satisfied: setuptools in /root/venv/lib/python3.9/site-packages (from pandas-gbq) (58.1.0)\nCollecting db-dtypes<2.0.0,>=1.0.4\n  Downloading db_dtypes-1.2.0-py2.py3-none-any.whl (14 kB)\nRequirement already satisfied: pyarrow>=3.0.0 in /shared-libs/python3.9/py/lib/python3.9/site-packages (from pandas-gbq) (9.0.0)\nRequirement already satisfied: numpy>=1.16.6 in /shared-libs/python3.9/py/lib/python3.9/site-packages (from pandas-gbq) (1.23.4)\nRequirement already satisfied: googleapis-common-protos<2.0.dev0,>=1.56.2 in /shared-libs/python3.9/py/lib/python3.9/site-packages (from google-api-core<3.0.0dev,>=2.10.2->pandas-gbq) (1.56.4)\nRequirement already satisfied: requests<3.0.0.dev0,>=2.18.0 in /shared-libs/python3.9/py/lib/python3.9/site-packages (from google-api-core<3.0.0dev,>=2.10.2->pandas-gbq) (2.28.1)\nRequirement already satisfied: protobuf!=3.20.0,!=3.20.1,!=4.21.0,!=4.21.1,!=4.21.2,!=4.21.3,!=4.21.4,!=4.21.5,<5.0.0.dev0,>=3.19.5 in /shared-libs/python3.9/py/lib/python3.9/site-packages (from google-api-core<3.0.0dev,>=2.10.2->pandas-gbq) (3.19.6)\nRequirement already satisfied: pyasn1-modules>=0.2.1 in /shared-libs/python3.9/py/lib/python3.9/site-packages (from google-auth>=2.13.0->pandas-gbq) (0.2.8)\nRequirement already satisfied: rsa<5,>=3.1.4 in /shared-libs/python3.9/py/lib/python3.9/site-packages (from google-auth>=2.13.0->pandas-gbq) (4.9)\nRequirement already satisfied: cachetools<6.0,>=2.0.0 in /shared-libs/python3.9/py/lib/python3.9/site-packages (from google-auth>=2.13.0->pandas-gbq) (5.2.0)\nRequirement already satisfied: six>=1.9.0 in /shared-libs/python3.9/py-core/lib/python3.9/site-packages (from google-auth>=2.13.0->pandas-gbq) (1.16.0)\nRequirement already satisfied: urllib3<2.0 in /shared-libs/python3.9/py/lib/python3.9/site-packages (from google-auth>=2.13.0->pandas-gbq) (1.26.12)\nRequirement already satisfied: requests-oauthlib>=0.7.0 in /shared-libs/python3.9/py/lib/python3.9/site-packages (from google-auth-oauthlib>=0.7.0->pandas-gbq) (1.3.1)\nRequirement already satisfied: proto-plus<2.0.0dev,>=1.22.0 in /shared-libs/python3.9/py/lib/python3.9/site-packages (from google-cloud-bigquery!=2.4.*,<4.0.0dev,>=3.3.5->pandas-gbq) (1.22.1)\nRequirement already satisfied: python-dateutil<3.0dev,>=2.7.2 in /shared-libs/python3.9/py-core/lib/python3.9/site-packages (from google-cloud-bigquery!=2.4.*,<4.0.0dev,>=3.3.5->pandas-gbq) (2.8.2)\nRequirement already satisfied: grpcio<2.0dev,>=1.47.0 in /shared-libs/python3.9/py/lib/python3.9/site-packages (from google-cloud-bigquery!=2.4.*,<4.0.0dev,>=3.3.5->pandas-gbq) (1.50.0)\nRequirement already satisfied: google-resumable-media<3.0dev,>=0.6.0 in /shared-libs/python3.9/py/lib/python3.9/site-packages (from google-cloud-bigquery!=2.4.*,<4.0.0dev,>=3.3.5->pandas-gbq) (2.4.0)\nRequirement already satisfied: google-cloud-core<3.0.0dev,>=1.4.1 in /shared-libs/python3.9/py/lib/python3.9/site-packages (from google-cloud-bigquery!=2.4.*,<4.0.0dev,>=3.3.5->pandas-gbq) (2.3.2)\nRequirement already satisfied: pyparsing!=3.0.5,>=2.0.2 in /shared-libs/python3.9/py-core/lib/python3.9/site-packages (from packaging>=20.0.0->pandas-gbq) (3.0.9)\nRequirement already satisfied: pytz>=2017.3 in /shared-libs/python3.9/py/lib/python3.9/site-packages (from pandas>=1.1.4->pandas-gbq) (2022.5)\nRequirement already satisfied: grpcio-status<2.0.dev0,>=1.33.2 in /shared-libs/python3.9/py/lib/python3.9/site-packages (from google-api-core<3.0.0dev,>=2.10.2->pandas-gbq) (1.48.2)\nRequirement already satisfied: google-crc32c<2.0dev,>=1.0 in /shared-libs/python3.9/py/lib/python3.9/site-packages (from google-resumable-media<3.0dev,>=0.6.0->google-cloud-bigquery!=2.4.*,<4.0.0dev,>=3.3.5->pandas-gbq) (1.5.0)\nRequirement already satisfied: pyasn1<0.5.0,>=0.4.6 in /shared-libs/python3.9/py/lib/python3.9/site-packages (from pyasn1-modules>=0.2.1->google-auth>=2.13.0->pandas-gbq) (0.4.8)\nRequirement already satisfied: idna<4,>=2.5 in /shared-libs/python3.9/py-core/lib/python3.9/site-packages (from requests<3.0.0.dev0,>=2.18.0->google-api-core<3.0.0dev,>=2.10.2->pandas-gbq) (3.4)\nRequirement already satisfied: certifi>=2017.4.17 in /shared-libs/python3.9/py/lib/python3.9/site-packages (from requests<3.0.0.dev0,>=2.18.0->google-api-core<3.0.0dev,>=2.10.2->pandas-gbq) (2022.9.24)\nRequirement already satisfied: charset-normalizer<3,>=2 in /shared-libs/python3.9/py-core/lib/python3.9/site-packages (from requests<3.0.0.dev0,>=2.18.0->google-api-core<3.0.0dev,>=2.10.2->pandas-gbq) (2.1.1)\nRequirement already satisfied: oauthlib>=3.0.0 in /shared-libs/python3.9/py/lib/python3.9/site-packages (from requests-oauthlib>=0.7.0->google-auth-oauthlib>=0.7.0->pandas-gbq) (3.2.2)\nInstalling collected packages: google-auth-oauthlib, db-dtypes, pydata-google-auth, pandas-gbq\n  Attempting uninstall: google-auth-oauthlib\n    Found existing installation: google-auth-oauthlib 0.4.6\n    Not uninstalling google-auth-oauthlib at /shared-libs/python3.9/py/lib/python3.9/site-packages, outside environment /root/venv\n    Can't uninstall 'google-auth-oauthlib'. No files were found to uninstall.\n\u001b[31mERROR: pip's dependency resolver does not currently take into account all the packages that are installed. This behaviour is the source of the following dependency conflicts.\ntensorboard 2.10.1 requires google-auth-oauthlib<0.5,>=0.4.1, but you have google-auth-oauthlib 1.2.0 which is incompatible.\u001b[0m\u001b[31m\n\u001b[0mSuccessfully installed db-dtypes-1.2.0 google-auth-oauthlib-1.2.0 pandas-gbq-0.20.0 pydata-google-auth-1.8.2\n\n\u001b[1m[\u001b[0m\u001b[34;49mnotice\u001b[0m\u001b[1;39;49m]\u001b[0m\u001b[39;49m A new release of pip is available: \u001b[0m\u001b[31;49m23.0.1\u001b[0m\u001b[39;49m -> \u001b[0m\u001b[32;49m23.3.2\u001b[0m\n\u001b[1m[\u001b[0m\u001b[34;49mnotice\u001b[0m\u001b[1;39;49m]\u001b[0m\u001b[39;49m To update, run: \u001b[0m\u001b[32;49mpip install --upgrade pip\u001b[0m\n",
          "output_type": "stream"
        }
      ],
      "execution_count": null,
      "block_group": "91e13282d9c94950856accb3c7592666"
    },
    {
      "cell_type": "markdown",
      "source": "Importing libraries",
      "metadata": {
        "tags": [],
        "cell_id": "da0e5c850983420d9168054e92b678f3",
        "is_collapsed": false,
        "formattedRanges": [],
        "deepnote_cell_type": "text-cell-p"
      },
      "block_group": "da0e5c850983420d9168054e92b678f3"
    },
    {
      "cell_type": "code",
      "source": "import requests\nimport pandas as pd\nimport json\nimport base64\nfrom urllib.parse import urlencode\nfrom google.oauth2 import service_account\nimport os\nimport re\nfrom pandas import json_normalize\nfrom pandas.io.json import json_normalize",
      "metadata": {
        "tags": [],
        "cell_id": "9be5476aaec547379141e07771fdc391",
        "source_hash": null,
        "execution_start": 1705087242635,
        "execution_millis": 62,
        "deepnote_to_be_reexecuted": false,
        "deepnote_cell_type": "code"
      },
      "outputs": [],
      "execution_count": null,
      "block_group": "9be5476aaec547379141e07771fdc391"
    },
    {
      "cell_type": "markdown",
      "source": "### Extract",
      "metadata": {
        "tags": [],
        "cell_id": "181b15323d1744bbb023fee92a270a1b",
        "is_collapsed": false,
        "formattedRanges": [],
        "deepnote_cell_type": "text-cell-h3"
      },
      "block_group": "181b15323d1744bbb023fee92a270a1b"
    },
    {
      "cell_type": "markdown",
      "source": "Setting client id and client secrect ",
      "metadata": {
        "tags": [],
        "cell_id": "25d4c58e-e2f4-4d05-8815-0b98e54bf7ec",
        "is_collapsed": false,
        "formattedRanges": [],
        "deepnote_cell_type": "text-cell-p"
      },
      "block_group": "25d4c58e-e2f4-4d05-8815-0b98e54bf7ec"
    },
    {
      "cell_type": "code",
      "source": "#Creating Client ID variable\nCLIENT_ID = os.getenv(\"SPOTIFY_CLIENT_ID\")\n\n#Creating Client Secret variable\nCLIENT_SECRET = os.getenv(\"SPOTIFY_CLIENT_SECRET\")\n\n#Declaring Access Token variable\nACCESS_TOKEN = '' # I need to request to Spotify EP",
      "metadata": {
        "tags": [],
        "source_hash": null,
        "execution_start": 1705087245214,
        "execution_millis": 7,
        "deepnote_to_be_reexecuted": false,
        "cell_id": "2d3eb45936e64cd0a10bb9e13de95ab8",
        "deepnote_cell_type": "code"
      },
      "outputs": [],
      "execution_count": null,
      "block_group": "2d3eb45936e64cd0a10bb9e13de95ab8"
    },
    {
      "cell_type": "markdown",
      "source": "Encoding client id and client secret to base64",
      "metadata": {
        "tags": [],
        "cell_id": "b36ed7123a134bd1bb58eca7f1da8a90",
        "is_collapsed": false,
        "formattedRanges": [],
        "deepnote_cell_type": "text-cell-p"
      },
      "block_group": "b36ed7123a134bd1bb58eca7f1da8a90"
    },
    {
      "cell_type": "code",
      "source": "#Concatenating client id and client secret with the format required by spotify\nclient_creds = f\"{CLIENT_ID}:{CLIENT_SECRET}\"\n\n#Enconding\nclient_creds_b64 = base64.b64encode(client_creds.encode())",
      "metadata": {
        "tags": [],
        "source_hash": null,
        "execution_start": 1705087337703,
        "execution_millis": 8,
        "deepnote_to_be_reexecuted": false,
        "cell_id": "62dc67f7133447efbdfed37f9b7d8b76",
        "deepnote_cell_type": "code"
      },
      "outputs": [],
      "execution_count": null,
      "block_group": "62dc67f7133447efbdfed37f9b7d8b76"
    },
    {
      "cell_type": "markdown",
      "source": "Requesting my token",
      "metadata": {
        "tags": [],
        "cell_id": "9d243fbd70454018b1332d62682c6ba7",
        "is_collapsed": false,
        "formattedRanges": [],
        "deepnote_cell_type": "text-cell-p"
      },
      "block_group": "9d243fbd70454018b1332d62682c6ba7"
    },
    {
      "cell_type": "code",
      "source": "#This is the ep to request the token\ntoken_ep = 'https://accounts.spotify.com/api/token'\n\n#Creating params\ntoken_params = {'grant_type':'client_credentials'}\n\n#Creating headers\ntoken_headers = {'Authorization': f'Basic {client_creds_b64.decode()}'}\n\n#Requesting and saving response in a variable\ntoken_response = requests.post(token_ep,data=token_params,headers=token_headers)\n\n#Getting access token \nACCESS_TOKEN = token_response.json()['access_token']",
      "metadata": {
        "tags": [],
        "cell_id": "f3ec5fb21b6845e8986542afb534a57f",
        "source_hash": null,
        "execution_start": 1705087355138,
        "execution_millis": 55,
        "deepnote_to_be_reexecuted": false,
        "deepnote_cell_type": "code"
      },
      "outputs": [],
      "execution_count": null,
      "block_group": "f3ec5fb21b6845e8986542afb534a57f"
    },
    {
      "cell_type": "markdown",
      "source": "Creating main header",
      "metadata": {
        "tags": [],
        "cell_id": "91c50b91d3b448a29e3a9b99ca143e32",
        "is_collapsed": false,
        "formattedRanges": [],
        "deepnote_cell_type": "text-cell-p"
      },
      "block_group": "91c50b91d3b448a29e3a9b99ca143e32"
    },
    {
      "cell_type": "code",
      "source": "#This variable will be used in all requests\nHEADERS = {'Authorization': f'Bearer {ACCESS_TOKEN}'}",
      "metadata": {
        "tags": [],
        "cell_id": "3788625b7ef74afc91d6aafec1b7b90a",
        "source_hash": null,
        "execution_start": 1705087358425,
        "execution_millis": 7,
        "deepnote_to_be_reexecuted": false,
        "deepnote_cell_type": "code"
      },
      "outputs": [],
      "execution_count": null,
      "block_group": "3788625b7ef74afc91d6aafec1b7b90a"
    },
    {
      "cell_type": "markdown",
      "source": "Typing my artist",
      "metadata": {
        "tags": [],
        "cell_id": "1ca01855a52340bcb45033b21ed1f435",
        "is_collapsed": false,
        "formattedRanges": [
          {
            "type": "marks",
            "marks": {
              "bold": true
            },
            "toCodePoint": 16,
            "fromCodePoint": 0
          }
        ],
        "deepnote_cell_type": "text-cell-p"
      },
      "block_group": "1ca01855a52340bcb45033b21ed1f435"
    },
    {
      "cell_type": "code",
      "source": "search_input = 'Mac Miller'",
      "metadata": {
        "cell_id": "31dad85118f64c4c8c08b5620c904691",
        "source_hash": null,
        "execution_start": 1705087293666,
        "execution_millis": 7,
        "deepnote_variable_name": "search_input",
        "deepnote_variable_value": "Mac Miller",
        "deepnote_to_be_reexecuted": false,
        "deepnote_cell_type": "input-text"
      },
      "outputs": [],
      "execution_count": null,
      "block_group": "31dad85118f64c4c8c08b5620c904691"
    },
    {
      "cell_type": "markdown",
      "source": "Requesting information about my artist",
      "metadata": {
        "tags": [],
        "cell_id": "1974bc5cbbb24ac7b36a564d879cb12b",
        "is_collapsed": false,
        "formattedRanges": [
          {
            "type": "marks",
            "marks": {
              "bold": true
            },
            "toCodePoint": 38,
            "fromCodePoint": 0
          }
        ],
        "deepnote_cell_type": "text-cell-p"
      },
      "block_group": "1974bc5cbbb24ac7b36a564d879cb12b"
    },
    {
      "cell_type": "code",
      "source": "#First I clean the input\nsearch_input = str(search_input.replace(' ','+'))\n\n#This is the ep to request a search\nsearch_ep = 'https://api.spotify.com/v1/search'\n\n#Here I need to send params it is important to select the type o search and market\nsearch_params = {'q':f\"{search_input}\",'type':'artist','market':'MX'}\n\n#Requesting information\nsearch = requests.get(search_ep,headers=HEADERS,params=search_params)\n\n#Saving response\nsearch = search.json()",
      "metadata": {
        "tags": [],
        "source_hash": null,
        "execution_start": 1705087599453,
        "execution_millis": 252,
        "is_output_hidden": false,
        "deepnote_to_be_reexecuted": false,
        "deepnote_app_is_output_hidden": false,
        "cell_id": "8e2b853f8d564a19b9ba7c1c476bc561",
        "deepnote_cell_type": "code"
      },
      "outputs": [],
      "execution_count": null,
      "block_group": "8e2b853f8d564a19b9ba7c1c476bc561"
    },
    {
      "cell_type": "markdown",
      "source": "Pointing to search with the text we want to search returns the results sorted by popularity, so we could access the first result to get the artist we are looking for.",
      "metadata": {
        "formattedRanges": [],
        "cell_id": "1c53ac12a46546f0953d97e48246fccf",
        "deepnote_cell_type": "text-cell-p"
      },
      "block_group": "e166113361db4661b58094f3cd7da67c"
    },
    {
      "cell_type": "code",
      "source": "#Print response\nsearch['artists']['items'][0]",
      "metadata": {
        "source_hash": null,
        "execution_start": 1705087635806,
        "execution_millis": 16,
        "deepnote_to_be_reexecuted": false,
        "cell_id": "12a45426ea794b31be621222bee870b3",
        "deepnote_cell_type": "code"
      },
      "outputs": [
        {
          "output_type": "execute_result",
          "execution_count": 19,
          "data": {
            "text/plain": "{'external_urls': {'spotify': 'https://open.spotify.com/artist/4LLpKhyESsyAXpc4laK94U'},\n 'followers': {'href': None, 'total': 9936389},\n 'genres': ['hip hop', 'pittsburgh rap', 'rap'],\n 'href': 'https://api.spotify.com/v1/artists/4LLpKhyESsyAXpc4laK94U',\n 'id': '4LLpKhyESsyAXpc4laK94U',\n 'images': [{'height': 640,\n   'url': 'https://i.scdn.co/image/ab6761610000e5ebed3b89aa602145fde71a163a',\n   'width': 640},\n  {'height': 320,\n   'url': 'https://i.scdn.co/image/ab67616100005174ed3b89aa602145fde71a163a',\n   'width': 320},\n  {'height': 160,\n   'url': 'https://i.scdn.co/image/ab6761610000f178ed3b89aa602145fde71a163a',\n   'width': 160}],\n 'name': 'Mac Miller',\n 'popularity': 81,\n 'type': 'artist',\n 'uri': 'spotify:artist:4LLpKhyESsyAXpc4laK94U'}"
          },
          "metadata": {}
        }
      ],
      "execution_count": null,
      "block_group": "6c21837448384228b9b9e3a4503da18f"
    },
    {
      "cell_type": "markdown",
      "source": "Getting artist ID",
      "metadata": {
        "tags": [],
        "cell_id": "ff76a71a68634d0fa20bfef08cafd55f",
        "is_collapsed": false,
        "formattedRanges": [
          {
            "type": "marks",
            "marks": {
              "bold": true
            },
            "toCodePoint": 17,
            "fromCodePoint": 0
          }
        ],
        "deepnote_cell_type": "text-cell-p"
      },
      "block_group": "ff76a71a68634d0fa20bfef08cafd55f"
    },
    {
      "cell_type": "code",
      "source": "artist_id = search['artists']['items'][0]['id']",
      "metadata": {
        "tags": [],
        "cell_id": "2d250d743bb74d3da17a0cffe7e7c13a",
        "source_hash": null,
        "execution_start": 1701226410310,
        "execution_millis": 7,
        "deepnote_to_be_reexecuted": false,
        "deepnote_cell_type": "code"
      },
      "outputs": [],
      "execution_count": null,
      "block_group": "2d250d743bb74d3da17a0cffe7e7c13a"
    },
    {
      "cell_type": "markdown",
      "source": "Getting all albums from my artist",
      "metadata": {
        "tags": [],
        "cell_id": "5771b2627ddb476eabd36acdc4e6c839",
        "is_collapsed": false,
        "formattedRanges": [
          {
            "type": "marks",
            "marks": {
              "bold": true
            },
            "toCodePoint": 33,
            "fromCodePoint": 0
          }
        ],
        "deepnote_cell_type": "text-cell-p"
      },
      "block_group": "5771b2627ddb476eabd36acdc4e6c839"
    },
    {
      "cell_type": "code",
      "source": "#This is the ep for get album data\nalbums_ep = f'https://api.spotify.com/v1/artists/{artist_id}/albums'\n\n#I pass the params\nalbums_params = {'country':'MX','limit':'50'}\n\n#Saving response\nalbums_response = requests.get(albums_ep,headers=HEADERS,params=albums_params).json()\n\n#Creating a df with the response\npd.DataFrame(albums_response['items']).sample(5)",
      "metadata": {
        "tags": [],
        "cell_id": "63afb169a0944ecca7d940dc4b402ca8",
        "source_hash": null,
        "execution_start": 1701226410320,
        "execution_millis": 490,
        "deepnote_to_be_reexecuted": false,
        "deepnote_cell_type": "code"
      },
      "outputs": [
        {
          "output_type": "execute_result",
          "execution_count": 10,
          "data": {
            "application/vnd.deepnote.dataframe.v3+json": {
              "column_count": 14,
              "row_count": 5,
              "columns": [
                {
                  "name": "album_group",
                  "dtype": "object",
                  "stats": {
                    "unique_count": 2,
                    "nan_count": 0,
                    "categories": [
                      {
                        "name": "album",
                        "count": 3
                      },
                      {
                        "name": "single",
                        "count": 2
                      }
                    ]
                  }
                },
                {
                  "name": "album_type",
                  "dtype": "object",
                  "stats": {
                    "unique_count": 2,
                    "nan_count": 0,
                    "categories": [
                      {
                        "name": "album",
                        "count": 3
                      },
                      {
                        "name": "single",
                        "count": 2
                      }
                    ]
                  }
                },
                {
                  "name": "artists",
                  "dtype": "object",
                  "stats": {
                    "unique_count": 5,
                    "nan_count": 0,
                    "categories": [
                      {
                        "name": "[{'external_urls': {'spotify': 'https://open.spotify.com/artist/4LLpKhyESsyAXpc4laK94U'}, 'href': 'https://api.spotify.com/v1/artists/4LLpKhyESsyAXpc4laK94U', 'id': '4LLpKhyESsyAXpc4laK94U', 'name': 'Mac Miller', 'type': 'artist', 'uri': 'spotify:artist:4LLpKhyESsyAXpc4laK94U'}]",
                        "count": 5
                      }
                    ]
                  }
                },
                {
                  "name": "external_urls",
                  "dtype": "object",
                  "stats": {
                    "unique_count": 5,
                    "nan_count": 0,
                    "categories": [
                      {
                        "name": "{'spotify': 'https://open.spotify.com/album/2INwmkuiQbfikxmwwLZwBY'}",
                        "count": 1
                      },
                      {
                        "name": "{'spotify': 'https://open.spotify.com/album/1aDhas2rvJmiGw3zVVI3mm'}",
                        "count": 1
                      },
                      {
                        "name": "3 others",
                        "count": 3
                      }
                    ]
                  }
                },
                {
                  "name": "href",
                  "dtype": "object",
                  "stats": {
                    "unique_count": 5,
                    "nan_count": 0,
                    "categories": [
                      {
                        "name": "https://api.spotify.com/v1/albums/2INwmkuiQbfikxmwwLZwBY",
                        "count": 1
                      },
                      {
                        "name": "https://api.spotify.com/v1/albums/1aDhas2rvJmiGw3zVVI3mm",
                        "count": 1
                      },
                      {
                        "name": "3 others",
                        "count": 3
                      }
                    ]
                  }
                },
                {
                  "name": "id",
                  "dtype": "object",
                  "stats": {
                    "unique_count": 5,
                    "nan_count": 0,
                    "categories": [
                      {
                        "name": "2INwmkuiQbfikxmwwLZwBY",
                        "count": 1
                      },
                      {
                        "name": "1aDhas2rvJmiGw3zVVI3mm",
                        "count": 1
                      },
                      {
                        "name": "3 others",
                        "count": 3
                      }
                    ]
                  }
                },
                {
                  "name": "images",
                  "dtype": "object",
                  "stats": {
                    "unique_count": 5,
                    "nan_count": 0,
                    "categories": [
                      {
                        "name": "[{'height': 640, 'url': 'https://i.scdn.co/image/ab67616d0000b273cd644222ead55599f9723cb1', 'width': 640}, {'height': 300, 'url': 'https://i.scdn.co/image/ab67616d00001e02cd644222ead55599f9723cb1', 'width': 300}, {'height': 64, 'url': 'https://i.scdn.co/image/ab67616d00004851cd644222ead55599f9723cb1', 'width': 64}]",
                        "count": 1
                      },
                      {
                        "name": "[{'height': 640, 'url': 'https://i.scdn.co/image/ab67616d0000b27331541d8f5f3680b5d8894e31', 'width': 640}, {'height': 300, 'url': 'https://i.scdn.co/image/ab67616d00001e0231541d8f5f3680b5d8894e31', 'width': 300}, {'height': 64, 'url': 'https://i.scdn.co/image/ab67616d0000485131541d8f5f3680b5d8894e31', 'width': 64}]",
                        "count": 1
                      },
                      {
                        "name": "3 others",
                        "count": 3
                      }
                    ]
                  }
                },
                {
                  "name": "is_playable",
                  "dtype": "bool",
                  "stats": {
                    "unique_count": 1,
                    "nan_count": 0,
                    "categories": [
                      {
                        "name": "True",
                        "count": 5
                      }
                    ]
                  }
                },
                {
                  "name": "name",
                  "dtype": "object",
                  "stats": {
                    "unique_count": 5,
                    "nan_count": 0,
                    "categories": [
                      {
                        "name": "Lucky Ass Bitch (feat. Juicy J)",
                        "count": 1
                      },
                      {
                        "name": "Live From Space",
                        "count": 1
                      },
                      {
                        "name": "3 others",
                        "count": 3
                      }
                    ]
                  }
                },
                {
                  "name": "release_date",
                  "dtype": "object",
                  "stats": {
                    "unique_count": 5,
                    "nan_count": 0,
                    "categories": [
                      {
                        "name": "2013-03-26",
                        "count": 1
                      },
                      {
                        "name": "2013-12-17",
                        "count": 1
                      },
                      {
                        "name": "3 others",
                        "count": 3
                      }
                    ]
                  }
                },
                {
                  "name": "release_date_precision",
                  "dtype": "object",
                  "stats": {
                    "unique_count": 1,
                    "nan_count": 0,
                    "categories": [
                      {
                        "name": "day",
                        "count": 5
                      }
                    ]
                  }
                },
                {
                  "name": "total_tracks",
                  "dtype": "int64",
                  "stats": {
                    "unique_count": 4,
                    "nan_count": 0,
                    "min": "1",
                    "max": "25",
                    "histogram": [
                      {
                        "bin_start": 1,
                        "bin_end": 3.4,
                        "count": 2
                      },
                      {
                        "bin_start": 3.4,
                        "bin_end": 5.8,
                        "count": 0
                      },
                      {
                        "bin_start": 5.8,
                        "bin_end": 8.2,
                        "count": 0
                      },
                      {
                        "bin_start": 8.2,
                        "bin_end": 10.6,
                        "count": 0
                      },
                      {
                        "bin_start": 10.6,
                        "bin_end": 13,
                        "count": 0
                      },
                      {
                        "bin_start": 13,
                        "bin_end": 15.399999999999999,
                        "count": 1
                      },
                      {
                        "bin_start": 15.399999999999999,
                        "bin_end": 17.8,
                        "count": 1
                      },
                      {
                        "bin_start": 17.8,
                        "bin_end": 20.2,
                        "count": 0
                      },
                      {
                        "bin_start": 20.2,
                        "bin_end": 22.599999999999998,
                        "count": 0
                      },
                      {
                        "bin_start": 22.599999999999998,
                        "bin_end": 25,
                        "count": 1
                      }
                    ]
                  }
                },
                {
                  "name": "type",
                  "dtype": "object",
                  "stats": {
                    "unique_count": 1,
                    "nan_count": 0,
                    "categories": [
                      {
                        "name": "album",
                        "count": 5
                      }
                    ]
                  }
                },
                {
                  "name": "uri",
                  "dtype": "object",
                  "stats": {
                    "unique_count": 5,
                    "nan_count": 0,
                    "categories": [
                      {
                        "name": "spotify:album:2INwmkuiQbfikxmwwLZwBY",
                        "count": 1
                      },
                      {
                        "name": "spotify:album:1aDhas2rvJmiGw3zVVI3mm",
                        "count": 1
                      },
                      {
                        "name": "3 others",
                        "count": 3
                      }
                    ]
                  }
                },
                {
                  "name": "_deepnote_index_column",
                  "dtype": "int64"
                }
              ],
              "rows": [
                {
                  "album_group": "single",
                  "album_type": "single",
                  "artists": "[{'external_urls': {'spotify': 'https://open.spotify.com/artist/4LLpKhyESsyAXpc4laK94U'}, 'href': 'https://api.spotify.com/v1/artists/4LLpKhyESsyAXpc4laK94U', 'id': '4LLpKhyESsyAXpc4laK94U', 'name': 'Mac Miller', 'type': 'artist', 'uri': 'spotify:artist:4LLpKhyESsyAXpc4laK94U'}]",
                  "external_urls": "{'spotify': 'https://open.spotify.com/album/2INwmkuiQbfikxmwwLZwBY'}",
                  "href": "https://api.spotify.com/v1/albums/2INwmkuiQbfikxmwwLZwBY",
                  "id": "2INwmkuiQbfikxmwwLZwBY",
                  "images": "[{'height': 640, 'url': 'https://i.scdn.co/image/ab67616d0000b273cd644222ead55599f9723cb1', 'width': 640}, {'height': 300, 'url': 'https://i.scdn.co/image/ab67616d00001e02cd644222ead55599f9723cb1', 'width': 300}, {'height': 64, 'url': 'https://i.scdn.co/image/ab67616d00004851cd644222ead55599f9723cb1', 'width': 64}]",
                  "is_playable": "True",
                  "name": "Lucky Ass Bitch (feat. Juicy J)",
                  "release_date": "2013-03-26",
                  "release_date_precision": "day",
                  "total_tracks": 1,
                  "type": "album",
                  "uri": "spotify:album:2INwmkuiQbfikxmwwLZwBY",
                  "_deepnote_index_column": 33
                },
                {
                  "album_group": "album",
                  "album_type": "album",
                  "artists": "[{'external_urls': {'spotify': 'https://open.spotify.com/artist/4LLpKhyESsyAXpc4laK94U'}, 'href': 'https://api.spotify.com/v1/artists/4LLpKhyESsyAXpc4laK94U', 'id': '4LLpKhyESsyAXpc4laK94U', 'name': 'Mac Miller', 'type': 'artist', 'uri': 'spotify:artist:4LLpKhyESsyAXpc4laK94U'}]",
                  "external_urls": "{'spotify': 'https://open.spotify.com/album/1aDhas2rvJmiGw3zVVI3mm'}",
                  "href": "https://api.spotify.com/v1/albums/1aDhas2rvJmiGw3zVVI3mm",
                  "id": "1aDhas2rvJmiGw3zVVI3mm",
                  "images": "[{'height': 640, 'url': 'https://i.scdn.co/image/ab67616d0000b27331541d8f5f3680b5d8894e31', 'width': 640}, {'height': 300, 'url': 'https://i.scdn.co/image/ab67616d00001e0231541d8f5f3680b5d8894e31', 'width': 300}, {'height': 64, 'url': 'https://i.scdn.co/image/ab67616d0000485131541d8f5f3680b5d8894e31', 'width': 64}]",
                  "is_playable": "True",
                  "name": "Live From Space",
                  "release_date": "2013-12-17",
                  "release_date_precision": "day",
                  "total_tracks": 14,
                  "type": "album",
                  "uri": "spotify:album:1aDhas2rvJmiGw3zVVI3mm",
                  "_deepnote_index_column": 9
                },
                {
                  "album_group": "album",
                  "album_type": "album",
                  "artists": "[{'external_urls': {'spotify': 'https://open.spotify.com/artist/4LLpKhyESsyAXpc4laK94U'}, 'href': 'https://api.spotify.com/v1/artists/4LLpKhyESsyAXpc4laK94U', 'id': '4LLpKhyESsyAXpc4laK94U', 'name': 'Mac Miller', 'type': 'artist', 'uri': 'spotify:artist:4LLpKhyESsyAXpc4laK94U'}]",
                  "external_urls": "{'spotify': 'https://open.spotify.com/album/1jzqEyjugAp9iLtRsj9LZg'}",
                  "href": "https://api.spotify.com/v1/albums/1jzqEyjugAp9iLtRsj9LZg",
                  "id": "1jzqEyjugAp9iLtRsj9LZg",
                  "images": "[{'height': 640, 'url': 'https://i.scdn.co/image/ab67616d0000b2739d37f979163154904099eece', 'width': 640}, {'height': 300, 'url': 'https://i.scdn.co/image/ab67616d00001e029d37f979163154904099eece', 'width': 300}, {'height': 64, 'url': 'https://i.scdn.co/image/ab67616d000048519d37f979163154904099eece', 'width': 64}]",
                  "is_playable": "True",
                  "name": "K.I.D.S.",
                  "release_date": "2010-08-13",
                  "release_date_precision": "day",
                  "total_tracks": 16,
                  "type": "album",
                  "uri": "spotify:album:1jzqEyjugAp9iLtRsj9LZg",
                  "_deepnote_index_column": 15
                },
                {
                  "album_group": "album",
                  "album_type": "album",
                  "artists": "[{'external_urls': {'spotify': 'https://open.spotify.com/artist/4LLpKhyESsyAXpc4laK94U'}, 'href': 'https://api.spotify.com/v1/artists/4LLpKhyESsyAXpc4laK94U', 'id': '4LLpKhyESsyAXpc4laK94U', 'name': 'Mac Miller', 'type': 'artist', 'uri': 'spotify:artist:4LLpKhyESsyAXpc4laK94U'}]",
                  "external_urls": "{'spotify': 'https://open.spotify.com/album/5SKnXCvB4fcGSZu32o3LRY'}",
                  "href": "https://api.spotify.com/v1/albums/5SKnXCvB4fcGSZu32o3LRY",
                  "id": "5SKnXCvB4fcGSZu32o3LRY",
                  "images": "[{'height': 640, 'url': 'https://i.scdn.co/image/ab67616d0000b273e4251cf5331ad74eaaeca36e', 'width': 640}, {'height': 300, 'url': 'https://i.scdn.co/image/ab67616d00001e02e4251cf5331ad74eaaeca36e', 'width': 300}, {'height': 64, 'url': 'https://i.scdn.co/image/ab67616d00004851e4251cf5331ad74eaaeca36e', 'width': 64}]",
                  "is_playable": "True",
                  "name": "Faces",
                  "release_date": "2021-10-15",
                  "release_date_precision": "day",
                  "total_tracks": 25,
                  "type": "album",
                  "uri": "spotify:album:5SKnXCvB4fcGSZu32o3LRY",
                  "_deepnote_index_column": 2
                },
                {
                  "album_group": "single",
                  "album_type": "single",
                  "artists": "[{'external_urls': {'spotify': 'https://open.spotify.com/artist/4LLpKhyESsyAXpc4laK94U'}, 'href': 'https://api.spotify.com/v1/artists/4LLpKhyESsyAXpc4laK94U', 'id': '4LLpKhyESsyAXpc4laK94U', 'name': 'Mac Miller', 'type': 'artist', 'uri': 'spotify:artist:4LLpKhyESsyAXpc4laK94U'}]",
                  "external_urls": "{'spotify': 'https://open.spotify.com/album/7GrWzoQHbx463gP1E6HFSp'}",
                  "href": "https://api.spotify.com/v1/albums/7GrWzoQHbx463gP1E6HFSp",
                  "id": "7GrWzoQHbx463gP1E6HFSp",
                  "images": "[{'height': 640, 'url': 'https://i.scdn.co/image/ab67616d0000b273700e5d5a2fcb6eee4a5778fc', 'width': 640}, {'height': 300, 'url': 'https://i.scdn.co/image/ab67616d00001e02700e5d5a2fcb6eee4a5778fc', 'width': 300}, {'height': 64, 'url': 'https://i.scdn.co/image/ab67616d00004851700e5d5a2fcb6eee4a5778fc', 'width': 64}]",
                  "is_playable": "True",
                  "name": "Buttons",
                  "release_date": "2018-05-29",
                  "release_date_precision": "day",
                  "total_tracks": 1,
                  "type": "album",
                  "uri": "spotify:album:7GrWzoQHbx463gP1E6HFSp",
                  "_deepnote_index_column": 26
                }
              ]
            },
            "text/plain": "   album_group album_type                                            artists  \\\n33      single     single  [{'external_urls': {'spotify': 'https://open.s...   \n9        album      album  [{'external_urls': {'spotify': 'https://open.s...   \n15       album      album  [{'external_urls': {'spotify': 'https://open.s...   \n2        album      album  [{'external_urls': {'spotify': 'https://open.s...   \n26      single     single  [{'external_urls': {'spotify': 'https://open.s...   \n\n                                        external_urls  \\\n33  {'spotify': 'https://open.spotify.com/album/2I...   \n9   {'spotify': 'https://open.spotify.com/album/1a...   \n15  {'spotify': 'https://open.spotify.com/album/1j...   \n2   {'spotify': 'https://open.spotify.com/album/5S...   \n26  {'spotify': 'https://open.spotify.com/album/7G...   \n\n                                                 href                      id  \\\n33  https://api.spotify.com/v1/albums/2INwmkuiQbfi...  2INwmkuiQbfikxmwwLZwBY   \n9   https://api.spotify.com/v1/albums/1aDhas2rvJmi...  1aDhas2rvJmiGw3zVVI3mm   \n15  https://api.spotify.com/v1/albums/1jzqEyjugAp9...  1jzqEyjugAp9iLtRsj9LZg   \n2   https://api.spotify.com/v1/albums/5SKnXCvB4fcG...  5SKnXCvB4fcGSZu32o3LRY   \n26  https://api.spotify.com/v1/albums/7GrWzoQHbx46...  7GrWzoQHbx463gP1E6HFSp   \n\n                                               images  is_playable  \\\n33  [{'height': 640, 'url': 'https://i.scdn.co/ima...         True   \n9   [{'height': 640, 'url': 'https://i.scdn.co/ima...         True   \n15  [{'height': 640, 'url': 'https://i.scdn.co/ima...         True   \n2   [{'height': 640, 'url': 'https://i.scdn.co/ima...         True   \n26  [{'height': 640, 'url': 'https://i.scdn.co/ima...         True   \n\n                               name release_date release_date_precision  \\\n33  Lucky Ass Bitch (feat. Juicy J)   2013-03-26                    day   \n9                   Live From Space   2013-12-17                    day   \n15                         K.I.D.S.   2010-08-13                    day   \n2                             Faces   2021-10-15                    day   \n26                          Buttons   2018-05-29                    day   \n\n    total_tracks   type                                   uri  \n33             1  album  spotify:album:2INwmkuiQbfikxmwwLZwBY  \n9             14  album  spotify:album:1aDhas2rvJmiGw3zVVI3mm  \n15            16  album  spotify:album:1jzqEyjugAp9iLtRsj9LZg  \n2             25  album  spotify:album:5SKnXCvB4fcGSZu32o3LRY  \n26             1  album  spotify:album:7GrWzoQHbx463gP1E6HFSp  ",
            "text/html": "<div>\n<style scoped>\n    .dataframe tbody tr th:only-of-type {\n        vertical-align: middle;\n    }\n\n    .dataframe tbody tr th {\n        vertical-align: top;\n    }\n\n    .dataframe thead th {\n        text-align: right;\n    }\n</style>\n<table border=\"1\" class=\"dataframe\">\n  <thead>\n    <tr style=\"text-align: right;\">\n      <th></th>\n      <th>album_group</th>\n      <th>album_type</th>\n      <th>artists</th>\n      <th>external_urls</th>\n      <th>href</th>\n      <th>id</th>\n      <th>images</th>\n      <th>is_playable</th>\n      <th>name</th>\n      <th>release_date</th>\n      <th>release_date_precision</th>\n      <th>total_tracks</th>\n      <th>type</th>\n      <th>uri</th>\n    </tr>\n  </thead>\n  <tbody>\n    <tr>\n      <th>33</th>\n      <td>single</td>\n      <td>single</td>\n      <td>[{'external_urls': {'spotify': 'https://open.s...</td>\n      <td>{'spotify': 'https://open.spotify.com/album/2I...</td>\n      <td>https://api.spotify.com/v1/albums/2INwmkuiQbfi...</td>\n      <td>2INwmkuiQbfikxmwwLZwBY</td>\n      <td>[{'height': 640, 'url': 'https://i.scdn.co/ima...</td>\n      <td>True</td>\n      <td>Lucky Ass Bitch (feat. Juicy J)</td>\n      <td>2013-03-26</td>\n      <td>day</td>\n      <td>1</td>\n      <td>album</td>\n      <td>spotify:album:2INwmkuiQbfikxmwwLZwBY</td>\n    </tr>\n    <tr>\n      <th>9</th>\n      <td>album</td>\n      <td>album</td>\n      <td>[{'external_urls': {'spotify': 'https://open.s...</td>\n      <td>{'spotify': 'https://open.spotify.com/album/1a...</td>\n      <td>https://api.spotify.com/v1/albums/1aDhas2rvJmi...</td>\n      <td>1aDhas2rvJmiGw3zVVI3mm</td>\n      <td>[{'height': 640, 'url': 'https://i.scdn.co/ima...</td>\n      <td>True</td>\n      <td>Live From Space</td>\n      <td>2013-12-17</td>\n      <td>day</td>\n      <td>14</td>\n      <td>album</td>\n      <td>spotify:album:1aDhas2rvJmiGw3zVVI3mm</td>\n    </tr>\n    <tr>\n      <th>15</th>\n      <td>album</td>\n      <td>album</td>\n      <td>[{'external_urls': {'spotify': 'https://open.s...</td>\n      <td>{'spotify': 'https://open.spotify.com/album/1j...</td>\n      <td>https://api.spotify.com/v1/albums/1jzqEyjugAp9...</td>\n      <td>1jzqEyjugAp9iLtRsj9LZg</td>\n      <td>[{'height': 640, 'url': 'https://i.scdn.co/ima...</td>\n      <td>True</td>\n      <td>K.I.D.S.</td>\n      <td>2010-08-13</td>\n      <td>day</td>\n      <td>16</td>\n      <td>album</td>\n      <td>spotify:album:1jzqEyjugAp9iLtRsj9LZg</td>\n    </tr>\n    <tr>\n      <th>2</th>\n      <td>album</td>\n      <td>album</td>\n      <td>[{'external_urls': {'spotify': 'https://open.s...</td>\n      <td>{'spotify': 'https://open.spotify.com/album/5S...</td>\n      <td>https://api.spotify.com/v1/albums/5SKnXCvB4fcG...</td>\n      <td>5SKnXCvB4fcGSZu32o3LRY</td>\n      <td>[{'height': 640, 'url': 'https://i.scdn.co/ima...</td>\n      <td>True</td>\n      <td>Faces</td>\n      <td>2021-10-15</td>\n      <td>day</td>\n      <td>25</td>\n      <td>album</td>\n      <td>spotify:album:5SKnXCvB4fcGSZu32o3LRY</td>\n    </tr>\n    <tr>\n      <th>26</th>\n      <td>single</td>\n      <td>single</td>\n      <td>[{'external_urls': {'spotify': 'https://open.s...</td>\n      <td>{'spotify': 'https://open.spotify.com/album/7G...</td>\n      <td>https://api.spotify.com/v1/albums/7GrWzoQHbx46...</td>\n      <td>7GrWzoQHbx463gP1E6HFSp</td>\n      <td>[{'height': 640, 'url': 'https://i.scdn.co/ima...</td>\n      <td>True</td>\n      <td>Buttons</td>\n      <td>2018-05-29</td>\n      <td>day</td>\n      <td>1</td>\n      <td>album</td>\n      <td>spotify:album:7GrWzoQHbx463gP1E6HFSp</td>\n    </tr>\n  </tbody>\n</table>\n</div>"
          },
          "metadata": {}
        }
      ],
      "execution_count": null,
      "block_group": "63afb169a0944ecca7d940dc4b402ca8"
    },
    {
      "cell_type": "markdown",
      "source": "Saving album ids",
      "metadata": {
        "tags": [],
        "cell_id": "332c71edfe3f47b8ab7a41d16dd52926",
        "is_collapsed": false,
        "formattedRanges": [
          {
            "type": "marks",
            "marks": {
              "bold": true
            },
            "toCodePoint": 16,
            "fromCodePoint": 0
          }
        ],
        "deepnote_cell_type": "text-cell-p"
      },
      "block_group": "332c71edfe3f47b8ab7a41d16dd52926"
    },
    {
      "cell_type": "code",
      "source": "#Saving al album ids in a list\nalbums = [album['id'] for album in albums_response['items']]",
      "metadata": {
        "tags": [],
        "cell_id": "9fb95dca93444e2e85cc79f697ccf4ee",
        "source_hash": null,
        "execution_start": 1701226410811,
        "execution_millis": 20,
        "deepnote_to_be_reexecuted": false,
        "deepnote_cell_type": "code"
      },
      "outputs": [],
      "execution_count": null,
      "block_group": "9fb95dca93444e2e85cc79f697ccf4ee"
    },
    {
      "cell_type": "markdown",
      "source": "Getting all tracks for each album",
      "metadata": {
        "tags": [],
        "cell_id": "5131dd1309be48ef843ce1227d941938",
        "is_collapsed": false,
        "formattedRanges": [
          {
            "type": "marks",
            "marks": {
              "bold": true
            },
            "toCodePoint": 33,
            "fromCodePoint": 0
          }
        ],
        "deepnote_cell_type": "text-cell-p"
      },
      "block_group": "5131dd1309be48ef843ce1227d941938"
    },
    {
      "cell_type": "code",
      "source": "#This list will contain all the track ids\ntracks_id = list()\n\n#Create a loop for extract every track id for every album\nfor album in albums:\n    tracks_ep = f'https://api.spotify.com/v1/albums/{album}/tracks'\n    tracks_params = {'market':'MX'}\n    tracks_response = requests.get(tracks_ep,headers=HEADERS,params=tracks_params).json()\n    for track in tracks_response['items']:\n        tracks_id.append(track['id'])",
      "metadata": {
        "tags": [],
        "cell_id": "384911628bce48b6b7813e5e95bdc137",
        "source_hash": null,
        "execution_start": 1701226410821,
        "execution_millis": 6232,
        "deepnote_to_be_reexecuted": false,
        "deepnote_cell_type": "code"
      },
      "outputs": [],
      "execution_count": null,
      "block_group": "384911628bce48b6b7813e5e95bdc137"
    },
    {
      "cell_type": "markdown",
      "source": "Getting all information about the tracks and creating the master dataframe",
      "metadata": {
        "tags": [],
        "cell_id": "c4ec9ad20f3f45299dcfa529b6cff4fd",
        "is_collapsed": false,
        "formattedRanges": [
          {
            "type": "marks",
            "marks": {
              "bold": true
            },
            "toCodePoint": 74,
            "fromCodePoint": 0
          }
        ],
        "deepnote_cell_type": "text-cell-p"
      },
      "block_group": "c4ec9ad20f3f45299dcfa529b6cff4fd"
    },
    {
      "cell_type": "code",
      "source": "#This is the row data for every track\nraw_data = []\n\n#Getting all track information for each track of the artist\nfor id in tracks_id:\n    try:\n        track_info_ep = f'https://api.spotify.com/v1/tracks/{id}'\n        track_info_params = {'market':'MX'}\n        track_info_response = requests.get(track_info_ep,headers=HEADERS,params=track_info_params).json()\n        if 'error' in track_info_response:\n            pass\n        else:\n            raw_data.append(track_info_response)\n    except Exception as e:\n        print(e)\n        pass",
      "metadata": {
        "tags": [],
        "cell_id": "c2b3310c8c8a4344908ae04aa01aa4f3",
        "source_hash": null,
        "execution_start": 1701226417027,
        "execution_millis": 51111,
        "deepnote_to_be_reexecuted": false,
        "deepnote_cell_type": "code"
      },
      "outputs": [],
      "execution_count": null,
      "block_group": "c2b3310c8c8a4344908ae04aa01aa4f3"
    },
    {
      "cell_type": "code",
      "source": "df = pd.DataFrame(raw_data)\ndf.sample(5)",
      "metadata": {
        "tags": [],
        "cell_id": "7d5564c8bedd40ccb007dfb118744aa5",
        "source_hash": null,
        "execution_start": 1701226468178,
        "execution_millis": 273,
        "deepnote_table_state": {
          "sortBy": [],
          "filters": [],
          "pageSize": 10,
          "pageIndex": 19
        },
        "deepnote_table_loading": false,
        "deepnote_to_be_reexecuted": false,
        "deepnote_cell_type": "code"
      },
      "outputs": [
        {
          "output_type": "execute_result",
          "execution_count": 14,
          "data": {
            "application/vnd.deepnote.dataframe.v3+json": {
              "column_count": 17,
              "row_count": 5,
              "columns": [
                {
                  "name": "album",
                  "dtype": "object",
                  "stats": {
                    "unique_count": 5,
                    "nan_count": 0,
                    "categories": [
                      {
                        "name": "{'album_type': 'album', 'artists': [{'external_urls': {'spotify': 'https://open.spotify.com/artist/4LLpKhyESsyAXpc4laK94U'}, 'href': 'https://api.spotify.com/v1/artists/4LLpKhyESsyAXpc4laK94U', 'id': '4LLpKhyESsyAXpc4laK94U', 'name': 'Mac Miller', 'type': 'artist', 'uri': 'spotify:artist:4LLpKhyESsyAXpc4laK94U'}], 'external_urls': {'spotify': 'https://open.spotify.com/album/0Wf65emw9eAwbjJ45gMMqp'}, 'href': 'https://api.spotify.com/v1/albums/0Wf65emw9eAwbjJ45gMMqp', 'id': '0Wf65emw9eAwbjJ45gMMqp', 'images': [{'height': 640, 'url': 'https://i.scdn.co/image/ab67616d0000b27388135807538061ab8c2c670f', 'width': 640}, {'height': 300, 'url': 'https://i.scdn.co/image/ab67616d00001e0288135807538061ab8c2c670f', 'width': 300}, {'height': 64, 'url': 'https://i.scdn.co/image/ab67616d0000485188135807538061ab8c2c670f', 'width': 64}], 'is_playable': True, 'name': 'Watching Movies with the Sound Off (10th Anniversary)', 'release_date': '2023-06-23', 'release_date_precision': 'day', 'total_tracks': 20, 'type': 'album', 'uri': 'spotify:album:0Wf65emw9eAwbjJ45gMMqp'}",
                        "count": 1
                      },
                      {
                        "name": "{'album_type': 'album', 'artists': [{'external_urls': {'spotify': 'https://open.spotify.com/artist/50co4Is1HCEo8bhOyUWKpn'}, 'href': 'https://api.spotify.com/v1/artists/50co4Is1HCEo8bhOyUWKpn', 'id': '50co4Is1HCEo8bhOyUWKpn', 'name': 'Young Thug', 'type': 'artist', 'uri': 'spotify:artist:50co4Is1HCEo8bhOyUWKpn'}], 'external_urls': {'spotify': 'https://open.spotify.com/album/7IKkHmEk4It4cRdOYanyvW'}, 'href': 'https://api.spotify.com/v1/albums/7IKkHmEk4It4cRdOYanyvW', 'id': '7IKkHmEk4It4cRdOYanyvW', 'images': [{'height': 640, 'url': 'https://i.scdn.co/image/ab67616d0000b273f8d415dab5ed7e3747bd38dd', 'width': 640}, {'height': 300, 'url': 'https://i.scdn.co/image/ab67616d00001e02f8d415dab5ed7e3747bd38dd', 'width': 300}, {'height': 64, 'url': 'https://i.scdn.co/image/ab67616d00004851f8d415dab5ed7e3747bd38dd', 'width': 64}], 'is_playable': True, 'name': 'Punk', 'release_date': '2021-10-15', 'release_date_precision': 'day', 'total_tracks': 20, 'type': 'album', 'uri': 'spotify:album:7IKkHmEk4It4cRdOYanyvW'}",
                        "count": 1
                      },
                      {
                        "name": "3 others",
                        "count": 3
                      }
                    ]
                  }
                },
                {
                  "name": "artists",
                  "dtype": "object",
                  "stats": {
                    "unique_count": 5,
                    "nan_count": 0,
                    "categories": [
                      {
                        "name": "[{'external_urls': {'spotify': 'https://open.spotify.com/artist/4LLpKhyESsyAXpc4laK94U'}, 'href': 'https://api.spotify.com/v1/artists/4LLpKhyESsyAXpc4laK94U', 'id': '4LLpKhyESsyAXpc4laK94U', 'name': 'Mac Miller', 'type': 'artist', 'uri': 'spotify:artist:4LLpKhyESsyAXpc4laK94U'}]",
                        "count": 3
                      },
                      {
                        "name": "[{'external_urls': {'spotify': 'https://open.spotify.com/artist/50co4Is1HCEo8bhOyUWKpn'}, 'href': 'https://api.spotify.com/v1/artists/50co4Is1HCEo8bhOyUWKpn', 'id': '50co4Is1HCEo8bhOyUWKpn', 'name': 'Young Thug', 'type': 'artist', 'uri': 'spotify:artist:50co4Is1HCEo8bhOyUWKpn'}, {'external_urls': {'spotify': 'https://open.spotify.com/artist/2hlmm7s2ICUX0LVIhVFlZQ'}, 'href': 'https://api.spotify.com/v1/artists/2hlmm7s2ICUX0LVIhVFlZQ', 'id': '2hlmm7s2ICUX0LVIhVFlZQ', 'name': 'Gunna', 'type': 'artist', 'uri': 'spotify:artist:2hlmm7s2ICUX0LVIhVFlZQ'}]",
                        "count": 1
                      },
                      {
                        "name": "[{'external_urls': {'spotify': 'https://open.spotify.com/artist/6vHBuUxrcpn1do5UaEJ7g6'}, 'href': 'https://api.spotify.com/v1/artists/6vHBuUxrcpn1do5UaEJ7g6', 'id': '6vHBuUxrcpn1do5UaEJ7g6', 'name': 'Domo Genesis', 'type': 'artist', 'uri': 'spotify:artist:6vHBuUxrcpn1do5UaEJ7g6'}, {'external_urls': {'spotify': 'https://open.spotify.com/artist/3jK9MiCrA42lLAdMGUZpwa'}, 'href': 'https://api.spotify.com/v1/artists/3jK9MiCrA42lLAdMGUZpwa', 'id': '3jK9MiCrA42lLAdMGUZpwa', 'name': 'Anderson .Paak', 'type': 'artist', 'uri': 'spotify:artist:3jK9MiCrA42lLAdMGUZpwa'}]",
                        "count": 1
                      }
                    ]
                  }
                },
                {
                  "name": "disc_number",
                  "dtype": "int64",
                  "stats": {
                    "unique_count": 1,
                    "nan_count": 0,
                    "min": "1",
                    "max": "1",
                    "histogram": [
                      {
                        "bin_start": 0.5,
                        "bin_end": 0.6,
                        "count": 0
                      },
                      {
                        "bin_start": 0.6,
                        "bin_end": 0.7,
                        "count": 0
                      },
                      {
                        "bin_start": 0.7,
                        "bin_end": 0.8,
                        "count": 0
                      },
                      {
                        "bin_start": 0.8,
                        "bin_end": 0.9,
                        "count": 0
                      },
                      {
                        "bin_start": 0.9,
                        "bin_end": 1,
                        "count": 0
                      },
                      {
                        "bin_start": 1,
                        "bin_end": 1.1,
                        "count": 5
                      },
                      {
                        "bin_start": 1.1,
                        "bin_end": 1.2000000000000002,
                        "count": 0
                      },
                      {
                        "bin_start": 1.2000000000000002,
                        "bin_end": 1.3,
                        "count": 0
                      },
                      {
                        "bin_start": 1.3,
                        "bin_end": 1.4,
                        "count": 0
                      },
                      {
                        "bin_start": 1.4,
                        "bin_end": 1.5,
                        "count": 0
                      }
                    ]
                  }
                },
                {
                  "name": "duration_ms",
                  "dtype": "int64",
                  "stats": {
                    "unique_count": 5,
                    "nan_count": 0,
                    "min": "168863",
                    "max": "223794",
                    "histogram": [
                      {
                        "bin_start": 168863,
                        "bin_end": 174356.1,
                        "count": 1
                      },
                      {
                        "bin_start": 174356.1,
                        "bin_end": 179849.2,
                        "count": 0
                      },
                      {
                        "bin_start": 179849.2,
                        "bin_end": 185342.3,
                        "count": 0
                      },
                      {
                        "bin_start": 185342.3,
                        "bin_end": 190835.4,
                        "count": 1
                      },
                      {
                        "bin_start": 190835.4,
                        "bin_end": 196328.5,
                        "count": 1
                      },
                      {
                        "bin_start": 196328.5,
                        "bin_end": 201821.6,
                        "count": 1
                      },
                      {
                        "bin_start": 201821.6,
                        "bin_end": 207314.7,
                        "count": 0
                      },
                      {
                        "bin_start": 207314.7,
                        "bin_end": 212807.8,
                        "count": 0
                      },
                      {
                        "bin_start": 212807.8,
                        "bin_end": 218300.9,
                        "count": 0
                      },
                      {
                        "bin_start": 218300.9,
                        "bin_end": 223794,
                        "count": 1
                      }
                    ]
                  }
                },
                {
                  "name": "explicit",
                  "dtype": "bool",
                  "stats": {
                    "unique_count": 1,
                    "nan_count": 0,
                    "categories": [
                      {
                        "name": "True",
                        "count": 5
                      }
                    ]
                  }
                },
                {
                  "name": "external_ids",
                  "dtype": "object",
                  "stats": {
                    "unique_count": 5,
                    "nan_count": 0,
                    "categories": [
                      {
                        "name": "{'isrc': 'USQY51374452'}",
                        "count": 1
                      },
                      {
                        "name": "{'isrc': 'USAT22106841'}",
                        "count": 1
                      },
                      {
                        "name": "3 others",
                        "count": 3
                      }
                    ]
                  }
                },
                {
                  "name": "external_urls",
                  "dtype": "object",
                  "stats": {
                    "unique_count": 5,
                    "nan_count": 0,
                    "categories": [
                      {
                        "name": "{'spotify': 'https://open.spotify.com/track/3P0mZWUWThSofCgvC9ZJYH'}",
                        "count": 1
                      },
                      {
                        "name": "{'spotify': 'https://open.spotify.com/track/26PSkNzsEBx1BRRB4vY4n5'}",
                        "count": 1
                      },
                      {
                        "name": "3 others",
                        "count": 3
                      }
                    ]
                  }
                },
                {
                  "name": "href",
                  "dtype": "object",
                  "stats": {
                    "unique_count": 5,
                    "nan_count": 0,
                    "categories": [
                      {
                        "name": "https://api.spotify.com/v1/tracks/3P0mZWUWThSofCgvC9ZJYH",
                        "count": 1
                      },
                      {
                        "name": "https://api.spotify.com/v1/tracks/26PSkNzsEBx1BRRB4vY4n5",
                        "count": 1
                      },
                      {
                        "name": "3 others",
                        "count": 3
                      }
                    ]
                  }
                },
                {
                  "name": "id",
                  "dtype": "object",
                  "stats": {
                    "unique_count": 5,
                    "nan_count": 0,
                    "categories": [
                      {
                        "name": "3P0mZWUWThSofCgvC9ZJYH",
                        "count": 1
                      },
                      {
                        "name": "26PSkNzsEBx1BRRB4vY4n5",
                        "count": 1
                      },
                      {
                        "name": "3 others",
                        "count": 3
                      }
                    ]
                  }
                },
                {
                  "name": "is_local",
                  "dtype": "bool",
                  "stats": {
                    "unique_count": 1,
                    "nan_count": 0,
                    "categories": [
                      {
                        "name": "False",
                        "count": 5
                      }
                    ]
                  }
                },
                {
                  "name": "is_playable",
                  "dtype": "bool",
                  "stats": {
                    "unique_count": 1,
                    "nan_count": 0,
                    "categories": [
                      {
                        "name": "True",
                        "count": 5
                      }
                    ]
                  }
                },
                {
                  "name": "name",
                  "dtype": "object",
                  "stats": {
                    "unique_count": 5,
                    "nan_count": 0,
                    "categories": [
                      {
                        "name": "Avian",
                        "count": 1
                      },
                      {
                        "name": "Insure My Wrist (with Gunna)",
                        "count": 1
                      },
                      {
                        "name": "3 others",
                        "count": 3
                      }
                    ]
                  }
                },
                {
                  "name": "popularity",
                  "dtype": "int64",
                  "stats": {
                    "unique_count": 5,
                    "nan_count": 0,
                    "min": "42",
                    "max": "56",
                    "histogram": [
                      {
                        "bin_start": 42,
                        "bin_end": 43.4,
                        "count": 1
                      },
                      {
                        "bin_start": 43.4,
                        "bin_end": 44.8,
                        "count": 0
                      },
                      {
                        "bin_start": 44.8,
                        "bin_end": 46.2,
                        "count": 0
                      },
                      {
                        "bin_start": 46.2,
                        "bin_end": 47.6,
                        "count": 1
                      },
                      {
                        "bin_start": 47.6,
                        "bin_end": 49,
                        "count": 0
                      },
                      {
                        "bin_start": 49,
                        "bin_end": 50.4,
                        "count": 1
                      },
                      {
                        "bin_start": 50.4,
                        "bin_end": 51.8,
                        "count": 0
                      },
                      {
                        "bin_start": 51.8,
                        "bin_end": 53.2,
                        "count": 0
                      },
                      {
                        "bin_start": 53.2,
                        "bin_end": 54.6,
                        "count": 0
                      },
                      {
                        "bin_start": 54.6,
                        "bin_end": 56,
                        "count": 2
                      }
                    ]
                  }
                },
                {
                  "name": "preview_url",
                  "dtype": "object",
                  "stats": {
                    "unique_count": 5,
                    "nan_count": 0,
                    "categories": [
                      {
                        "name": "https://p.scdn.co/mp3-preview/3669a44cf5e774ba59d6ce7aea573cee1579545f?cid=d1ecea0a2c2e48698143f80110609734",
                        "count": 1
                      },
                      {
                        "name": "https://p.scdn.co/mp3-preview/e448a4f8fc8879582827e840da6a03c56b185c5b?cid=d1ecea0a2c2e48698143f80110609734",
                        "count": 1
                      },
                      {
                        "name": "3 others",
                        "count": 3
                      }
                    ]
                  }
                },
                {
                  "name": "track_number",
                  "dtype": "int64",
                  "stats": {
                    "unique_count": 5,
                    "nan_count": 0,
                    "min": "2",
                    "max": "12",
                    "histogram": [
                      {
                        "bin_start": 2,
                        "bin_end": 3,
                        "count": 1
                      },
                      {
                        "bin_start": 3,
                        "bin_end": 4,
                        "count": 1
                      },
                      {
                        "bin_start": 4,
                        "bin_end": 5,
                        "count": 0
                      },
                      {
                        "bin_start": 5,
                        "bin_end": 6,
                        "count": 0
                      },
                      {
                        "bin_start": 6,
                        "bin_end": 7,
                        "count": 0
                      },
                      {
                        "bin_start": 7,
                        "bin_end": 8,
                        "count": 0
                      },
                      {
                        "bin_start": 8,
                        "bin_end": 9,
                        "count": 0
                      },
                      {
                        "bin_start": 9,
                        "bin_end": 10,
                        "count": 1
                      },
                      {
                        "bin_start": 10,
                        "bin_end": 11,
                        "count": 1
                      },
                      {
                        "bin_start": 11,
                        "bin_end": 12,
                        "count": 1
                      }
                    ]
                  }
                },
                {
                  "name": "type",
                  "dtype": "object",
                  "stats": {
                    "unique_count": 1,
                    "nan_count": 0,
                    "categories": [
                      {
                        "name": "track",
                        "count": 5
                      }
                    ]
                  }
                },
                {
                  "name": "uri",
                  "dtype": "object",
                  "stats": {
                    "unique_count": 5,
                    "nan_count": 0,
                    "categories": [
                      {
                        "name": "spotify:track:3P0mZWUWThSofCgvC9ZJYH",
                        "count": 1
                      },
                      {
                        "name": "spotify:track:26PSkNzsEBx1BRRB4vY4n5",
                        "count": 1
                      },
                      {
                        "name": "3 others",
                        "count": 3
                      }
                    ]
                  }
                },
                {
                  "name": "_deepnote_index_column",
                  "dtype": "int64"
                }
              ],
              "rows": [
                {
                  "album": "{'album_type': 'album', 'artists': [{'external_urls': {'spotify': 'https://open.spotify.com/artist/4LLpKhyESsyAXpc4laK94U'}, 'href': 'https://api.spotify.com/v1/artists/4LLpKhyESsyAXpc4laK94U', 'id': '4LLpKhyESsyAXpc4laK94U', 'name': 'Mac Miller', 'type': 'artist', 'uri': 'spotify:artist:4LLpKhyESsyAXpc4laK94U'}], 'external_urls': {'spotify': 'https://open.spotify.com/album/0Wf65emw9eAwbjJ45gMMqp'}, 'href': 'https://api.spotify.com/v1/albums/0Wf65emw9eAwbjJ45gMMqp', 'id': '0Wf65emw9eAwbjJ45gMMqp', 'images': [{'height': 640, 'url': 'https://i.scdn.co/image/ab67616d0000b27388135807538061ab8c2c670f', 'width': 640}, {'height': 300, 'url': 'https://i.scdn.co/image/ab67616d00001e0288135807538061ab8c2c670f', 'width': 300}, {'height': 64, 'url': 'https://i.scdn.co/image/ab67616d0000485188135807538061ab8c2c670f', 'width': 64}], 'is_playable': True, 'name': 'Watching Movies with the Sound Off (10th Anniversary)', 'release_date': '2023-06-23', 'release_date_precision': 'day', 'total_tracks': 20,…",
                  "artists": "[{'external_urls': {'spotify': 'https://open.spotify.com/artist/4LLpKhyESsyAXpc4laK94U'}, 'href': 'https://api.spotify.com/v1/artists/4LLpKhyESsyAXpc4laK94U', 'id': '4LLpKhyESsyAXpc4laK94U', 'name': 'Mac Miller', 'type': 'artist', 'uri': 'spotify:artist:4LLpKhyESsyAXpc4laK94U'}]",
                  "disc_number": 1,
                  "duration_ms": 196756,
                  "explicit": "True",
                  "external_ids": "{'isrc': 'USQY51374452'}",
                  "external_urls": "{'spotify': 'https://open.spotify.com/track/3P0mZWUWThSofCgvC9ZJYH'}",
                  "href": "https://api.spotify.com/v1/tracks/3P0mZWUWThSofCgvC9ZJYH",
                  "id": "3P0mZWUWThSofCgvC9ZJYH",
                  "is_local": "False",
                  "is_playable": "True",
                  "name": "Avian",
                  "popularity": 50,
                  "preview_url": "https://p.scdn.co/mp3-preview/3669a44cf5e774ba59d6ce7aea573cee1579545f?cid=d1ecea0a2c2e48698143f80110609734",
                  "track_number": 2,
                  "type": "track",
                  "uri": "spotify:track:3P0mZWUWThSofCgvC9ZJYH",
                  "_deepnote_index_column": 1
                },
                {
                  "album": "{'album_type': 'album', 'artists': [{'external_urls': {'spotify': 'https://open.spotify.com/artist/50co4Is1HCEo8bhOyUWKpn'}, 'href': 'https://api.spotify.com/v1/artists/50co4Is1HCEo8bhOyUWKpn', 'id': '50co4Is1HCEo8bhOyUWKpn', 'name': 'Young Thug', 'type': 'artist', 'uri': 'spotify:artist:50co4Is1HCEo8bhOyUWKpn'}], 'external_urls': {'spotify': 'https://open.spotify.com/album/7IKkHmEk4It4cRdOYanyvW'}, 'href': 'https://api.spotify.com/v1/albums/7IKkHmEk4It4cRdOYanyvW', 'id': '7IKkHmEk4It4cRdOYanyvW', 'images': [{'height': 640, 'url': 'https://i.scdn.co/image/ab67616d0000b273f8d415dab5ed7e3747bd38dd', 'width': 640}, {'height': 300, 'url': 'https://i.scdn.co/image/ab67616d00001e02f8d415dab5ed7e3747bd38dd', 'width': 300}, {'height': 64, 'url': 'https://i.scdn.co/image/ab67616d00004851f8d415dab5ed7e3747bd38dd', 'width': 64}], 'is_playable': True, 'name': 'Punk', 'release_date': '2021-10-15', 'release_date_precision': 'day', 'total_tracks': 20, 'type': 'album', 'uri': 'spotify:album:7IKkHmEk4…",
                  "artists": "[{'external_urls': {'spotify': 'https://open.spotify.com/artist/50co4Is1HCEo8bhOyUWKpn'}, 'href': 'https://api.spotify.com/v1/artists/50co4Is1HCEo8bhOyUWKpn', 'id': '50co4Is1HCEo8bhOyUWKpn', 'name': 'Young Thug', 'type': 'artist', 'uri': 'spotify:artist:50co4Is1HCEo8bhOyUWKpn'}, {'external_urls': {'spotify': 'https://open.spotify.com/artist/2hlmm7s2ICUX0LVIhVFlZQ'}, 'href': 'https://api.spotify.com/v1/artists/2hlmm7s2ICUX0LVIhVFlZQ', 'id': '2hlmm7s2ICUX0LVIhVFlZQ', 'name': 'Gunna', 'type': 'artist', 'uri': 'spotify:artist:2hlmm7s2ICUX0LVIhVFlZQ'}]",
                  "disc_number": 1,
                  "duration_ms": 168863,
                  "explicit": "True",
                  "external_ids": "{'isrc': 'USAT22106841'}",
                  "external_urls": "{'spotify': 'https://open.spotify.com/track/26PSkNzsEBx1BRRB4vY4n5'}",
                  "href": "https://api.spotify.com/v1/tracks/26PSkNzsEBx1BRRB4vY4n5",
                  "id": "26PSkNzsEBx1BRRB4vY4n5",
                  "is_local": "False",
                  "is_playable": "True",
                  "name": "Insure My Wrist (with Gunna)",
                  "popularity": 47,
                  "preview_url": "https://p.scdn.co/mp3-preview/e448a4f8fc8879582827e840da6a03c56b185c5b?cid=d1ecea0a2c2e48698143f80110609734",
                  "track_number": 10,
                  "type": "track",
                  "uri": "spotify:track:26PSkNzsEBx1BRRB4vY4n5",
                  "_deepnote_index_column": 310
                },
                {
                  "album": "{'album_type': 'album', 'artists': [{'external_urls': {'spotify': 'https://open.spotify.com/artist/4LLpKhyESsyAXpc4laK94U'}, 'href': 'https://api.spotify.com/v1/artists/4LLpKhyESsyAXpc4laK94U', 'id': '4LLpKhyESsyAXpc4laK94U', 'name': 'Mac Miller', 'type': 'artist', 'uri': 'spotify:artist:4LLpKhyESsyAXpc4laK94U'}], 'external_urls': {'spotify': 'https://open.spotify.com/album/1jzqEyjugAp9iLtRsj9LZg'}, 'href': 'https://api.spotify.com/v1/albums/1jzqEyjugAp9iLtRsj9LZg', 'id': '1jzqEyjugAp9iLtRsj9LZg', 'images': [{'height': 640, 'url': 'https://i.scdn.co/image/ab67616d0000b2739d37f979163154904099eece', 'width': 640}, {'height': 300, 'url': 'https://i.scdn.co/image/ab67616d00001e029d37f979163154904099eece', 'width': 300}, {'height': 64, 'url': 'https://i.scdn.co/image/ab67616d000048519d37f979163154904099eece', 'width': 64}], 'is_playable': True, 'name': 'K.I.D.S.', 'release_date': '2010-08-13', 'release_date_precision': 'day', 'total_tracks': 16, 'type': 'album', 'uri': 'spotify:album:1jzqE…",
                  "artists": "[{'external_urls': {'spotify': 'https://open.spotify.com/artist/4LLpKhyESsyAXpc4laK94U'}, 'href': 'https://api.spotify.com/v1/artists/4LLpKhyESsyAXpc4laK94U', 'id': '4LLpKhyESsyAXpc4laK94U', 'name': 'Mac Miller', 'type': 'artist', 'uri': 'spotify:artist:4LLpKhyESsyAXpc4laK94U'}]",
                  "disc_number": 1,
                  "duration_ms": 186238,
                  "explicit": "True",
                  "external_ids": "{'isrc': 'USA2P2015958'}",
                  "external_urls": "{'spotify': 'https://open.spotify.com/track/27gJm5GVMhseR4daRo8UVQ'}",
                  "href": "https://api.spotify.com/v1/tracks/27gJm5GVMhseR4daRo8UVQ",
                  "id": "27gJm5GVMhseR4daRo8UVQ",
                  "is_local": "False",
                  "is_playable": "True",
                  "name": "Get Em Up",
                  "popularity": 42,
                  "preview_url": "https://p.scdn.co/mp3-preview/f7f09639b80ac602f7ea899e5dbcd0d2227a817d?cid=d1ecea0a2c2e48698143f80110609734",
                  "track_number": 3,
                  "type": "track",
                  "uri": "spotify:track:27gJm5GVMhseR4daRo8UVQ",
                  "_deepnote_index_column": 238
                },
                {
                  "album": "{'album_type': 'album', 'artists': [{'external_urls': {'spotify': 'https://open.spotify.com/artist/4LLpKhyESsyAXpc4laK94U'}, 'href': 'https://api.spotify.com/v1/artists/4LLpKhyESsyAXpc4laK94U', 'id': '4LLpKhyESsyAXpc4laK94U', 'name': 'Mac Miller', 'type': 'artist', 'uri': 'spotify:artist:4LLpKhyESsyAXpc4laK94U'}], 'external_urls': {'spotify': 'https://open.spotify.com/album/5SKnXCvB4fcGSZu32o3LRY'}, 'href': 'https://api.spotify.com/v1/albums/5SKnXCvB4fcGSZu32o3LRY', 'id': '5SKnXCvB4fcGSZu32o3LRY', 'images': [{'height': 640, 'url': 'https://i.scdn.co/image/ab67616d0000b273e4251cf5331ad74eaaeca36e', 'width': 640}, {'height': 300, 'url': 'https://i.scdn.co/image/ab67616d00001e02e4251cf5331ad74eaaeca36e', 'width': 300}, {'height': 64, 'url': 'https://i.scdn.co/image/ab67616d00004851e4251cf5331ad74eaaeca36e', 'width': 64}], 'is_playable': True, 'name': 'Faces', 'release_date': '2021-10-15', 'release_date_precision': 'day', 'total_tracks': 25, 'type': 'album', 'uri': 'spotify:album:5SKnXCvB…",
                  "artists": "[{'external_urls': {'spotify': 'https://open.spotify.com/artist/4LLpKhyESsyAXpc4laK94U'}, 'href': 'https://api.spotify.com/v1/artists/4LLpKhyESsyAXpc4laK94U', 'id': '4LLpKhyESsyAXpc4laK94U', 'name': 'Mac Miller', 'type': 'artist', 'uri': 'spotify:artist:4LLpKhyESsyAXpc4laK94U'}]",
                  "disc_number": 1,
                  "duration_ms": 223794,
                  "explicit": "True",
                  "external_ids": "{'isrc': 'USWB12103321'}",
                  "external_urls": "{'spotify': 'https://open.spotify.com/track/2CNaYt7KbFqUrATbZZPY21'}",
                  "href": "https://api.spotify.com/v1/tracks/2CNaYt7KbFqUrATbZZPY21",
                  "id": "2CNaYt7KbFqUrATbZZPY21",
                  "is_local": "False",
                  "is_playable": "True",
                  "name": "Funeral",
                  "popularity": 55,
                  "preview_url": "https://p.scdn.co/mp3-preview/2393d3391a998bf10df20f6e32ec1d8f62fd728c?cid=d1ecea0a2c2e48698143f80110609734",
                  "track_number": 12,
                  "type": "track",
                  "uri": "spotify:track:2CNaYt7KbFqUrATbZZPY21",
                  "_deepnote_index_column": 44
                },
                {
                  "album": "{'album_type': 'album', 'artists': [{'external_urls': {'spotify': 'https://open.spotify.com/artist/6vHBuUxrcpn1do5UaEJ7g6'}, 'href': 'https://api.spotify.com/v1/artists/6vHBuUxrcpn1do5UaEJ7g6', 'id': '6vHBuUxrcpn1do5UaEJ7g6', 'name': 'Domo Genesis', 'type': 'artist', 'uri': 'spotify:artist:6vHBuUxrcpn1do5UaEJ7g6'}], 'external_urls': {'spotify': 'https://open.spotify.com/album/3mhZHDmHvIUAeAYH7MrXBW'}, 'href': 'https://api.spotify.com/v1/albums/3mhZHDmHvIUAeAYH7MrXBW', 'id': '3mhZHDmHvIUAeAYH7MrXBW', 'images': [{'height': 640, 'url': 'https://i.scdn.co/image/ab67616d0000b273085d6629aaaf7baa283d5c7d', 'width': 640}, {'height': 300, 'url': 'https://i.scdn.co/image/ab67616d00001e02085d6629aaaf7baa283d5c7d', 'width': 300}, {'height': 64, 'url': 'https://i.scdn.co/image/ab67616d00004851085d6629aaaf7baa283d5c7d', 'width': 64}], 'is_playable': True, 'name': 'Genesis', 'release_date': '2016-03-25', 'release_date_precision': 'day', 'total_tracks': 12, 'type': 'album', 'uri': 'spotify:album:3mhZ…",
                  "artists": "[{'external_urls': {'spotify': 'https://open.spotify.com/artist/6vHBuUxrcpn1do5UaEJ7g6'}, 'href': 'https://api.spotify.com/v1/artists/6vHBuUxrcpn1do5UaEJ7g6', 'id': '6vHBuUxrcpn1do5UaEJ7g6', 'name': 'Domo Genesis', 'type': 'artist', 'uri': 'spotify:artist:6vHBuUxrcpn1do5UaEJ7g6'}, {'external_urls': {'spotify': 'https://open.spotify.com/artist/3jK9MiCrA42lLAdMGUZpwa'}, 'href': 'https://api.spotify.com/v1/artists/3jK9MiCrA42lLAdMGUZpwa', 'id': '3jK9MiCrA42lLAdMGUZpwa', 'name': 'Anderson .Paak', 'type': 'artist', 'uri': 'spotify:artist:3jK9MiCrA42lLAdMGUZpwa'}]",
                  "disc_number": 1,
                  "duration_ms": 193093,
                  "explicit": "True",
                  "external_ids": "{'isrc': 'USQX91600320'}",
                  "external_urls": "{'spotify': 'https://open.spotify.com/track/2Nh2cMryoXl7BrZoIeN2Pr'}",
                  "href": "https://api.spotify.com/v1/tracks/2Nh2cMryoXl7BrZoIeN2Pr",
                  "id": "2Nh2cMryoXl7BrZoIeN2Pr",
                  "is_local": "False",
                  "is_playable": "True",
                  "name": "Dapper (feat. Anderson .Paak)",
                  "popularity": 56,
                  "preview_url": "https://p.scdn.co/mp3-preview/bc35e40cee1f733c8b067f6f5ebe8369ac45aee1?cid=d1ecea0a2c2e48698143f80110609734",
                  "track_number": 9,
                  "type": "track",
                  "uri": "spotify:track:2Nh2cMryoXl7BrZoIeN2Pr",
                  "_deepnote_index_column": 380
                }
              ]
            },
            "text/plain": "                                                 album  \\\n1    {'album_type': 'album', 'artists': [{'external...   \n310  {'album_type': 'album', 'artists': [{'external...   \n238  {'album_type': 'album', 'artists': [{'external...   \n44   {'album_type': 'album', 'artists': [{'external...   \n380  {'album_type': 'album', 'artists': [{'external...   \n\n                                               artists  disc_number  \\\n1    [{'external_urls': {'spotify': 'https://open.s...            1   \n310  [{'external_urls': {'spotify': 'https://open.s...            1   \n238  [{'external_urls': {'spotify': 'https://open.s...            1   \n44   [{'external_urls': {'spotify': 'https://open.s...            1   \n380  [{'external_urls': {'spotify': 'https://open.s...            1   \n\n     duration_ms  explicit              external_ids  \\\n1         196756      True  {'isrc': 'USQY51374452'}   \n310       168863      True  {'isrc': 'USAT22106841'}   \n238       186238      True  {'isrc': 'USA2P2015958'}   \n44        223794      True  {'isrc': 'USWB12103321'}   \n380       193093      True  {'isrc': 'USQX91600320'}   \n\n                                         external_urls  \\\n1    {'spotify': 'https://open.spotify.com/track/3P...   \n310  {'spotify': 'https://open.spotify.com/track/26...   \n238  {'spotify': 'https://open.spotify.com/track/27...   \n44   {'spotify': 'https://open.spotify.com/track/2C...   \n380  {'spotify': 'https://open.spotify.com/track/2N...   \n\n                                                  href  \\\n1    https://api.spotify.com/v1/tracks/3P0mZWUWThSo...   \n310  https://api.spotify.com/v1/tracks/26PSkNzsEBx1...   \n238  https://api.spotify.com/v1/tracks/27gJm5GVMhse...   \n44   https://api.spotify.com/v1/tracks/2CNaYt7KbFqU...   \n380  https://api.spotify.com/v1/tracks/2Nh2cMryoXl7...   \n\n                         id  is_local  is_playable  \\\n1    3P0mZWUWThSofCgvC9ZJYH     False         True   \n310  26PSkNzsEBx1BRRB4vY4n5     False         True   \n238  27gJm5GVMhseR4daRo8UVQ     False         True   \n44   2CNaYt7KbFqUrATbZZPY21     False         True   \n380  2Nh2cMryoXl7BrZoIeN2Pr     False         True   \n\n                              name  popularity  \\\n1                            Avian          50   \n310   Insure My Wrist (with Gunna)          47   \n238                      Get Em Up          42   \n44                         Funeral          55   \n380  Dapper (feat. Anderson .Paak)          56   \n\n                                           preview_url  track_number   type  \\\n1    https://p.scdn.co/mp3-preview/3669a44cf5e774ba...             2  track   \n310  https://p.scdn.co/mp3-preview/e448a4f8fc887958...            10  track   \n238  https://p.scdn.co/mp3-preview/f7f09639b80ac602...             3  track   \n44   https://p.scdn.co/mp3-preview/2393d3391a998bf1...            12  track   \n380  https://p.scdn.co/mp3-preview/bc35e40cee1f733c...             9  track   \n\n                                      uri  \n1    spotify:track:3P0mZWUWThSofCgvC9ZJYH  \n310  spotify:track:26PSkNzsEBx1BRRB4vY4n5  \n238  spotify:track:27gJm5GVMhseR4daRo8UVQ  \n44   spotify:track:2CNaYt7KbFqUrATbZZPY21  \n380  spotify:track:2Nh2cMryoXl7BrZoIeN2Pr  ",
            "text/html": "<div>\n<style scoped>\n    .dataframe tbody tr th:only-of-type {\n        vertical-align: middle;\n    }\n\n    .dataframe tbody tr th {\n        vertical-align: top;\n    }\n\n    .dataframe thead th {\n        text-align: right;\n    }\n</style>\n<table border=\"1\" class=\"dataframe\">\n  <thead>\n    <tr style=\"text-align: right;\">\n      <th></th>\n      <th>album</th>\n      <th>artists</th>\n      <th>disc_number</th>\n      <th>duration_ms</th>\n      <th>explicit</th>\n      <th>external_ids</th>\n      <th>external_urls</th>\n      <th>href</th>\n      <th>id</th>\n      <th>is_local</th>\n      <th>is_playable</th>\n      <th>name</th>\n      <th>popularity</th>\n      <th>preview_url</th>\n      <th>track_number</th>\n      <th>type</th>\n      <th>uri</th>\n    </tr>\n  </thead>\n  <tbody>\n    <tr>\n      <th>1</th>\n      <td>{'album_type': 'album', 'artists': [{'external...</td>\n      <td>[{'external_urls': {'spotify': 'https://open.s...</td>\n      <td>1</td>\n      <td>196756</td>\n      <td>True</td>\n      <td>{'isrc': 'USQY51374452'}</td>\n      <td>{'spotify': 'https://open.spotify.com/track/3P...</td>\n      <td>https://api.spotify.com/v1/tracks/3P0mZWUWThSo...</td>\n      <td>3P0mZWUWThSofCgvC9ZJYH</td>\n      <td>False</td>\n      <td>True</td>\n      <td>Avian</td>\n      <td>50</td>\n      <td>https://p.scdn.co/mp3-preview/3669a44cf5e774ba...</td>\n      <td>2</td>\n      <td>track</td>\n      <td>spotify:track:3P0mZWUWThSofCgvC9ZJYH</td>\n    </tr>\n    <tr>\n      <th>310</th>\n      <td>{'album_type': 'album', 'artists': [{'external...</td>\n      <td>[{'external_urls': {'spotify': 'https://open.s...</td>\n      <td>1</td>\n      <td>168863</td>\n      <td>True</td>\n      <td>{'isrc': 'USAT22106841'}</td>\n      <td>{'spotify': 'https://open.spotify.com/track/26...</td>\n      <td>https://api.spotify.com/v1/tracks/26PSkNzsEBx1...</td>\n      <td>26PSkNzsEBx1BRRB4vY4n5</td>\n      <td>False</td>\n      <td>True</td>\n      <td>Insure My Wrist (with Gunna)</td>\n      <td>47</td>\n      <td>https://p.scdn.co/mp3-preview/e448a4f8fc887958...</td>\n      <td>10</td>\n      <td>track</td>\n      <td>spotify:track:26PSkNzsEBx1BRRB4vY4n5</td>\n    </tr>\n    <tr>\n      <th>238</th>\n      <td>{'album_type': 'album', 'artists': [{'external...</td>\n      <td>[{'external_urls': {'spotify': 'https://open.s...</td>\n      <td>1</td>\n      <td>186238</td>\n      <td>True</td>\n      <td>{'isrc': 'USA2P2015958'}</td>\n      <td>{'spotify': 'https://open.spotify.com/track/27...</td>\n      <td>https://api.spotify.com/v1/tracks/27gJm5GVMhse...</td>\n      <td>27gJm5GVMhseR4daRo8UVQ</td>\n      <td>False</td>\n      <td>True</td>\n      <td>Get Em Up</td>\n      <td>42</td>\n      <td>https://p.scdn.co/mp3-preview/f7f09639b80ac602...</td>\n      <td>3</td>\n      <td>track</td>\n      <td>spotify:track:27gJm5GVMhseR4daRo8UVQ</td>\n    </tr>\n    <tr>\n      <th>44</th>\n      <td>{'album_type': 'album', 'artists': [{'external...</td>\n      <td>[{'external_urls': {'spotify': 'https://open.s...</td>\n      <td>1</td>\n      <td>223794</td>\n      <td>True</td>\n      <td>{'isrc': 'USWB12103321'}</td>\n      <td>{'spotify': 'https://open.spotify.com/track/2C...</td>\n      <td>https://api.spotify.com/v1/tracks/2CNaYt7KbFqU...</td>\n      <td>2CNaYt7KbFqUrATbZZPY21</td>\n      <td>False</td>\n      <td>True</td>\n      <td>Funeral</td>\n      <td>55</td>\n      <td>https://p.scdn.co/mp3-preview/2393d3391a998bf1...</td>\n      <td>12</td>\n      <td>track</td>\n      <td>spotify:track:2CNaYt7KbFqUrATbZZPY21</td>\n    </tr>\n    <tr>\n      <th>380</th>\n      <td>{'album_type': 'album', 'artists': [{'external...</td>\n      <td>[{'external_urls': {'spotify': 'https://open.s...</td>\n      <td>1</td>\n      <td>193093</td>\n      <td>True</td>\n      <td>{'isrc': 'USQX91600320'}</td>\n      <td>{'spotify': 'https://open.spotify.com/track/2N...</td>\n      <td>https://api.spotify.com/v1/tracks/2Nh2cMryoXl7...</td>\n      <td>2Nh2cMryoXl7BrZoIeN2Pr</td>\n      <td>False</td>\n      <td>True</td>\n      <td>Dapper (feat. Anderson .Paak)</td>\n      <td>56</td>\n      <td>https://p.scdn.co/mp3-preview/bc35e40cee1f733c...</td>\n      <td>9</td>\n      <td>track</td>\n      <td>spotify:track:2Nh2cMryoXl7BrZoIeN2Pr</td>\n    </tr>\n  </tbody>\n</table>\n</div>"
          },
          "metadata": {}
        }
      ],
      "execution_count": null,
      "block_group": "7d5564c8bedd40ccb007dfb118744aa5"
    },
    {
      "cell_type": "markdown",
      "source": "### Transform",
      "metadata": {
        "tags": [],
        "cell_id": "8fc358ff897043d2afb80c1ee25579dd",
        "is_collapsed": false,
        "formattedRanges": [],
        "deepnote_cell_type": "text-cell-h3"
      },
      "block_group": "8fc358ff897043d2afb80c1ee25579dd"
    },
    {
      "cell_type": "code",
      "source": "#album_data = json_normalize(df['album'])\n#album_data.sample(5)",
      "metadata": {
        "tags": [],
        "cell_id": "db49d8e5cec94233a0ee36e9f343d502",
        "source_hash": null,
        "execution_start": 1701226468198,
        "execution_millis": 213,
        "deepnote_table_state": {
          "sortBy": [
            {
              "id": "album_type",
              "type": "desc"
            }
          ],
          "filters": [],
          "pageSize": 10,
          "pageIndex": 0
        },
        "deepnote_table_loading": false,
        "deepnote_to_be_reexecuted": false,
        "deepnote_cell_type": "code"
      },
      "outputs": [],
      "execution_count": null,
      "block_group": "db49d8e5cec94233a0ee36e9f343d502"
    },
    {
      "cell_type": "code",
      "source": "df['featured_artist'] = df['artists'].apply(lambda row: [artist['name'] for artist in row])\n#pd.DataFrame(df['featured_artist'].values.tolist()).add_prefix('artist_') \ndf['featured_artist'] = df['featured_artist'].apply(lambda row: ', '.join(row[1:]))",
      "metadata": {
        "tags": [],
        "cell_id": "d164bec8130c45bda8b383eca0bf4e21",
        "source_hash": null,
        "execution_start": 1701226468199,
        "execution_millis": 215,
        "deepnote_table_state": {
          "sortBy": [],
          "filters": [],
          "pageSize": 10,
          "pageIndex": 15
        },
        "deepnote_table_loading": false,
        "deepnote_to_be_reexecuted": false,
        "deepnote_cell_type": "code"
      },
      "outputs": [],
      "execution_count": null,
      "block_group": "d164bec8130c45bda8b383eca0bf4e21"
    },
    {
      "cell_type": "code",
      "source": "df['album_id'] = df['album'].apply(lambda x: x['id'])\ndf['album_name'] = df['album'].apply(lambda x: x['name'])\ndf['album_release_date'] = df['album'].apply(lambda x: x['release_date'])  \ndf['album_cover'] = df['album'].apply(lambda x: x['images'][0]['url'])\ndf['album_type'] = df['album'].apply(lambda x: x['album_type'])\ndf['album_total_tracks'] = df['album'].apply(lambda x: x['total_tracks'])  ",
      "metadata": {
        "tags": [],
        "cell_id": "4599d96474734aad838f324759747088",
        "source_hash": null,
        "execution_start": 1701226468200,
        "execution_millis": 211,
        "deepnote_to_be_reexecuted": false,
        "deepnote_cell_type": "code"
      },
      "outputs": [],
      "execution_count": null,
      "block_group": "4599d96474734aad838f324759747088"
    },
    {
      "cell_type": "code",
      "source": "df['artist_id'] = df['artists'].apply(lambda x: x[0]['id']) \ndf['artist_name'] = df['artists'].apply(lambda x: x[0]['name']) ",
      "metadata": {
        "tags": [],
        "cell_id": "44d7d9caf84b4ad98b5833aca5a36110",
        "source_hash": null,
        "execution_start": 1701226468236,
        "execution_millis": 181,
        "deepnote_to_be_reexecuted": false,
        "deepnote_cell_type": "code"
      },
      "outputs": [],
      "execution_count": null,
      "block_group": "44d7d9caf84b4ad98b5833aca5a36110"
    },
    {
      "cell_type": "code",
      "source": "df.columns",
      "metadata": {
        "tags": [],
        "cell_id": "e531fd9431554a24b1122ed75499830f",
        "source_hash": null,
        "execution_start": 1701226468236,
        "execution_millis": 179,
        "deepnote_to_be_reexecuted": false,
        "deepnote_cell_type": "code"
      },
      "outputs": [
        {
          "output_type": "execute_result",
          "execution_count": 19,
          "data": {
            "text/plain": "Index(['album', 'artists', 'disc_number', 'duration_ms', 'explicit',\n       'external_ids', 'external_urls', 'href', 'id', 'is_local',\n       'is_playable', 'name', 'popularity', 'preview_url', 'track_number',\n       'type', 'uri', 'featured_artist', 'album_id', 'album_name',\n       'album_release_date', 'album_cover', 'album_type', 'album_total_tracks',\n       'artist_id', 'artist_name'],\n      dtype='object')"
          },
          "metadata": {}
        }
      ],
      "execution_count": null,
      "block_group": "e531fd9431554a24b1122ed75499830f"
    },
    {
      "cell_type": "code",
      "source": "df = df[[\n    'id',\n    'name',\n    'duration_ms',\n    'popularity',\n    'track_number',\n    'album_id',\n    'album_name',\n    'album_release_date',\n    'album_total_tracks',\n    'album_cover',\n    'album_type',\n    'artist_id',\n    'artist_name',\n    'featured_artist'\n]]",
      "metadata": {
        "tags": [],
        "cell_id": "ab2be7c973dd45038c1b663175dc6dee",
        "source_hash": null,
        "execution_start": 1701226468237,
        "execution_millis": 178,
        "deepnote_to_be_reexecuted": false,
        "deepnote_cell_type": "code"
      },
      "outputs": [],
      "execution_count": null,
      "block_group": "ab2be7c973dd45038c1b663175dc6dee"
    },
    {
      "cell_type": "code",
      "source": "df.sample(5)",
      "metadata": {
        "tags": [],
        "cell_id": "eed49bc2ce5e4a2685c0d380b8869811",
        "source_hash": null,
        "execution_start": 1701226468279,
        "execution_millis": 137,
        "deepnote_to_be_reexecuted": false,
        "deepnote_cell_type": "code"
      },
      "outputs": [
        {
          "output_type": "execute_result",
          "execution_count": 21,
          "data": {
            "application/vnd.deepnote.dataframe.v3+json": {
              "column_count": 14,
              "row_count": 5,
              "columns": [
                {
                  "name": "id",
                  "dtype": "object",
                  "stats": {
                    "unique_count": 5,
                    "nan_count": 0,
                    "categories": [
                      {
                        "name": "27gJm5GVMhseR4daRo8UVQ",
                        "count": 1
                      },
                      {
                        "name": "3l5r1zd9EWibbvOhBM8sQR",
                        "count": 1
                      },
                      {
                        "name": "3 others",
                        "count": 3
                      }
                    ]
                  }
                },
                {
                  "name": "name",
                  "dtype": "object",
                  "stats": {
                    "unique_count": 5,
                    "nan_count": 0,
                    "categories": [
                      {
                        "name": "Get Em Up",
                        "count": 1
                      },
                      {
                        "name": "Back In The Day",
                        "count": 1
                      },
                      {
                        "name": "3 others",
                        "count": 3
                      }
                    ]
                  }
                },
                {
                  "name": "duration_ms",
                  "dtype": "int64",
                  "stats": {
                    "unique_count": 5,
                    "nan_count": 0,
                    "min": "160066",
                    "max": "246865",
                    "histogram": [
                      {
                        "bin_start": 160066,
                        "bin_end": 168745.9,
                        "count": 2
                      },
                      {
                        "bin_start": 168745.9,
                        "bin_end": 177425.8,
                        "count": 0
                      },
                      {
                        "bin_start": 177425.8,
                        "bin_end": 186105.7,
                        "count": 0
                      },
                      {
                        "bin_start": 186105.7,
                        "bin_end": 194785.6,
                        "count": 1
                      },
                      {
                        "bin_start": 194785.6,
                        "bin_end": 203465.5,
                        "count": 1
                      },
                      {
                        "bin_start": 203465.5,
                        "bin_end": 212145.4,
                        "count": 0
                      },
                      {
                        "bin_start": 212145.4,
                        "bin_end": 220825.3,
                        "count": 0
                      },
                      {
                        "bin_start": 220825.3,
                        "bin_end": 229505.2,
                        "count": 0
                      },
                      {
                        "bin_start": 229505.2,
                        "bin_end": 238185.09999999998,
                        "count": 0
                      },
                      {
                        "bin_start": 238185.09999999998,
                        "bin_end": 246865,
                        "count": 1
                      }
                    ]
                  }
                },
                {
                  "name": "popularity",
                  "dtype": "int64",
                  "stats": {
                    "unique_count": 5,
                    "nan_count": 0,
                    "min": "33",
                    "max": "52",
                    "histogram": [
                      {
                        "bin_start": 33,
                        "bin_end": 34.9,
                        "count": 1
                      },
                      {
                        "bin_start": 34.9,
                        "bin_end": 36.8,
                        "count": 0
                      },
                      {
                        "bin_start": 36.8,
                        "bin_end": 38.7,
                        "count": 0
                      },
                      {
                        "bin_start": 38.7,
                        "bin_end": 40.6,
                        "count": 0
                      },
                      {
                        "bin_start": 40.6,
                        "bin_end": 42.5,
                        "count": 1
                      },
                      {
                        "bin_start": 42.5,
                        "bin_end": 44.4,
                        "count": 0
                      },
                      {
                        "bin_start": 44.4,
                        "bin_end": 46.3,
                        "count": 1
                      },
                      {
                        "bin_start": 46.3,
                        "bin_end": 48.2,
                        "count": 0
                      },
                      {
                        "bin_start": 48.2,
                        "bin_end": 50.099999999999994,
                        "count": 1
                      },
                      {
                        "bin_start": 50.099999999999994,
                        "bin_end": 52,
                        "count": 1
                      }
                    ]
                  }
                },
                {
                  "name": "track_number",
                  "dtype": "int64",
                  "stats": {
                    "unique_count": 5,
                    "nan_count": 0,
                    "min": "2",
                    "max": "18",
                    "histogram": [
                      {
                        "bin_start": 2,
                        "bin_end": 3.6,
                        "count": 2
                      },
                      {
                        "bin_start": 3.6,
                        "bin_end": 5.2,
                        "count": 0
                      },
                      {
                        "bin_start": 5.2,
                        "bin_end": 6.800000000000001,
                        "count": 0
                      },
                      {
                        "bin_start": 6.800000000000001,
                        "bin_end": 8.4,
                        "count": 0
                      },
                      {
                        "bin_start": 8.4,
                        "bin_end": 10,
                        "count": 0
                      },
                      {
                        "bin_start": 10,
                        "bin_end": 11.600000000000001,
                        "count": 1
                      },
                      {
                        "bin_start": 11.600000000000001,
                        "bin_end": 13.200000000000001,
                        "count": 1
                      },
                      {
                        "bin_start": 13.200000000000001,
                        "bin_end": 14.8,
                        "count": 0
                      },
                      {
                        "bin_start": 14.8,
                        "bin_end": 16.4,
                        "count": 0
                      },
                      {
                        "bin_start": 16.4,
                        "bin_end": 18,
                        "count": 1
                      }
                    ]
                  }
                },
                {
                  "name": "album_id",
                  "dtype": "object",
                  "stats": {
                    "unique_count": 5,
                    "nan_count": 0,
                    "categories": [
                      {
                        "name": "1jzqEyjugAp9iLtRsj9LZg",
                        "count": 1
                      },
                      {
                        "name": "6TFm9KGW7Lbxrl2Zsg4X9R",
                        "count": 1
                      },
                      {
                        "name": "3 others",
                        "count": 3
                      }
                    ]
                  }
                },
                {
                  "name": "album_name",
                  "dtype": "object",
                  "stats": {
                    "unique_count": 5,
                    "nan_count": 0,
                    "categories": [
                      {
                        "name": "K.I.D.S.",
                        "count": 1
                      },
                      {
                        "name": "K.I.D.S. (Deluxe)",
                        "count": 1
                      },
                      {
                        "name": "3 others",
                        "count": 3
                      }
                    ]
                  }
                },
                {
                  "name": "album_release_date",
                  "dtype": "object",
                  "stats": {
                    "unique_count": 4,
                    "nan_count": 0,
                    "categories": [
                      {
                        "name": "2010-08-13",
                        "count": 2
                      },
                      {
                        "name": "2013-06-18",
                        "count": 1
                      },
                      {
                        "name": "2 others",
                        "count": 2
                      }
                    ]
                  }
                },
                {
                  "name": "album_total_tracks",
                  "dtype": "int64",
                  "stats": {
                    "unique_count": 4,
                    "nan_count": 0,
                    "min": "14",
                    "max": "20",
                    "histogram": [
                      {
                        "bin_start": 14,
                        "bin_end": 14.6,
                        "count": 1
                      },
                      {
                        "bin_start": 14.6,
                        "bin_end": 15.2,
                        "count": 0
                      },
                      {
                        "bin_start": 15.2,
                        "bin_end": 15.8,
                        "count": 0
                      },
                      {
                        "bin_start": 15.8,
                        "bin_end": 16.4,
                        "count": 2
                      },
                      {
                        "bin_start": 16.4,
                        "bin_end": 17,
                        "count": 0
                      },
                      {
                        "bin_start": 17,
                        "bin_end": 17.6,
                        "count": 0
                      },
                      {
                        "bin_start": 17.6,
                        "bin_end": 18.2,
                        "count": 1
                      },
                      {
                        "bin_start": 18.2,
                        "bin_end": 18.8,
                        "count": 0
                      },
                      {
                        "bin_start": 18.8,
                        "bin_end": 19.4,
                        "count": 0
                      },
                      {
                        "bin_start": 19.4,
                        "bin_end": 20,
                        "count": 1
                      }
                    ]
                  }
                },
                {
                  "name": "album_cover",
                  "dtype": "object",
                  "stats": {
                    "unique_count": 5,
                    "nan_count": 0,
                    "categories": [
                      {
                        "name": "https://i.scdn.co/image/ab67616d0000b2739d37f979163154904099eece",
                        "count": 1
                      },
                      {
                        "name": "https://i.scdn.co/image/ab67616d0000b273463d73e65c7b95a17898388b",
                        "count": 1
                      },
                      {
                        "name": "3 others",
                        "count": 3
                      }
                    ]
                  }
                },
                {
                  "name": "album_type",
                  "dtype": "object",
                  "stats": {
                    "unique_count": 1,
                    "nan_count": 0,
                    "categories": [
                      {
                        "name": "album",
                        "count": 5
                      }
                    ]
                  }
                },
                {
                  "name": "artist_id",
                  "dtype": "object",
                  "stats": {
                    "unique_count": 1,
                    "nan_count": 0,
                    "categories": [
                      {
                        "name": "4LLpKhyESsyAXpc4laK94U",
                        "count": 5
                      }
                    ]
                  }
                },
                {
                  "name": "artist_name",
                  "dtype": "object",
                  "stats": {
                    "unique_count": 1,
                    "nan_count": 0,
                    "categories": [
                      {
                        "name": "Mac Miller",
                        "count": 5
                      }
                    ]
                  }
                },
                {
                  "name": "featured_artist",
                  "dtype": "object",
                  "stats": {
                    "unique_count": 1,
                    "nan_count": 0,
                    "categories": [
                      {
                        "name": "",
                        "count": 5
                      }
                    ]
                  }
                },
                {
                  "name": "_deepnote_index_column",
                  "dtype": "int64"
                }
              ],
              "rows": [
                {
                  "id": "27gJm5GVMhseR4daRo8UVQ",
                  "name": "Get Em Up",
                  "duration_ms": 186238,
                  "popularity": 42,
                  "track_number": 3,
                  "album_id": "1jzqEyjugAp9iLtRsj9LZg",
                  "album_name": "K.I.D.S.",
                  "album_release_date": "2010-08-13",
                  "album_total_tracks": 16,
                  "album_cover": "https://i.scdn.co/image/ab67616d0000b2739d37f979163154904099eece",
                  "album_type": "album",
                  "artist_id": "4LLpKhyESsyAXpc4laK94U",
                  "artist_name": "Mac Miller",
                  "featured_artist": "",
                  "_deepnote_index_column": 238
                },
                {
                  "id": "3l5r1zd9EWibbvOhBM8sQR",
                  "name": "Back In The Day",
                  "duration_ms": 246865,
                  "popularity": 52,
                  "track_number": 18,
                  "album_id": "6TFm9KGW7Lbxrl2Zsg4X9R",
                  "album_name": "K.I.D.S. (Deluxe)",
                  "album_release_date": "2010-08-13",
                  "album_total_tracks": 18,
                  "album_cover": "https://i.scdn.co/image/ab67616d0000b273463d73e65c7b95a17898388b",
                  "album_type": "album",
                  "artist_id": "4LLpKhyESsyAXpc4laK94U",
                  "artist_name": "Mac Miller",
                  "featured_artist": "",
                  "_deepnote_index_column": 235
                },
                {
                  "id": "2R8dXjdGLvOQAqYgpQXBtl",
                  "name": "Suplexes Inside of Complexes and Duplexes",
                  "duration_ms": 167437,
                  "popularity": 45,
                  "track_number": 12,
                  "album_id": "5lftuHeYvtCA64xGfUviwS",
                  "album_name": "Watching Movies with the Sound Off",
                  "album_release_date": "2013-06-18",
                  "album_total_tracks": 16,
                  "album_cover": "https://i.scdn.co/image/ab67616d0000b27331b22ef303d03fe334dbe479",
                  "album_type": "album",
                  "artist_id": "4LLpKhyESsyAXpc4laK94U",
                  "artist_name": "Mac Miller",
                  "featured_artist": "",
                  "_deepnote_index_column": 160
                },
                {
                  "id": "3P0mZWUWThSofCgvC9ZJYH",
                  "name": "Avian",
                  "duration_ms": 196756,
                  "popularity": 50,
                  "track_number": 2,
                  "album_id": "0Wf65emw9eAwbjJ45gMMqp",
                  "album_name": "Watching Movies with the Sound Off (10th Anniversary)",
                  "album_release_date": "2023-06-23",
                  "album_total_tracks": 20,
                  "album_cover": "https://i.scdn.co/image/ab67616d0000b27388135807538061ab8c2c670f",
                  "album_type": "album",
                  "artist_id": "4LLpKhyESsyAXpc4laK94U",
                  "artist_name": "Mac Miller",
                  "featured_artist": "",
                  "_deepnote_index_column": 1
                },
                {
                  "id": "4uPGQVcaiUGnNgEDYp0aol",
                  "name": "Eggs Aisle",
                  "duration_ms": 160066,
                  "popularity": 33,
                  "track_number": 10,
                  "album_id": "1aDhas2rvJmiGw3zVVI3mm",
                  "album_name": "Live From Space",
                  "album_release_date": "2013-12-17",
                  "album_total_tracks": 14,
                  "album_cover": "https://i.scdn.co/image/ab67616d0000b27331541d8f5f3680b5d8894e31",
                  "album_type": "album",
                  "artist_id": "4LLpKhyESsyAXpc4laK94U",
                  "artist_name": "Mac Miller",
                  "featured_artist": "",
                  "_deepnote_index_column": 144
                }
              ]
            },
            "text/plain": "                         id                                       name  \\\n238  27gJm5GVMhseR4daRo8UVQ                                  Get Em Up   \n235  3l5r1zd9EWibbvOhBM8sQR                            Back In The Day   \n160  2R8dXjdGLvOQAqYgpQXBtl  Suplexes Inside of Complexes and Duplexes   \n1    3P0mZWUWThSofCgvC9ZJYH                                      Avian   \n144  4uPGQVcaiUGnNgEDYp0aol                                 Eggs Aisle   \n\n     duration_ms  popularity  track_number                album_id  \\\n238       186238          42             3  1jzqEyjugAp9iLtRsj9LZg   \n235       246865          52            18  6TFm9KGW7Lbxrl2Zsg4X9R   \n160       167437          45            12  5lftuHeYvtCA64xGfUviwS   \n1         196756          50             2  0Wf65emw9eAwbjJ45gMMqp   \n144       160066          33            10  1aDhas2rvJmiGw3zVVI3mm   \n\n                                            album_name album_release_date  \\\n238                                           K.I.D.S.         2010-08-13   \n235                                  K.I.D.S. (Deluxe)         2010-08-13   \n160                 Watching Movies with the Sound Off         2013-06-18   \n1    Watching Movies with the Sound Off (10th Anniv...         2023-06-23   \n144                                    Live From Space         2013-12-17   \n\n     album_total_tracks                                        album_cover  \\\n238                  16  https://i.scdn.co/image/ab67616d0000b2739d37f9...   \n235                  18  https://i.scdn.co/image/ab67616d0000b273463d73...   \n160                  16  https://i.scdn.co/image/ab67616d0000b27331b22e...   \n1                    20  https://i.scdn.co/image/ab67616d0000b273881358...   \n144                  14  https://i.scdn.co/image/ab67616d0000b27331541d...   \n\n    album_type               artist_id artist_name featured_artist  \n238      album  4LLpKhyESsyAXpc4laK94U  Mac Miller                  \n235      album  4LLpKhyESsyAXpc4laK94U  Mac Miller                  \n160      album  4LLpKhyESsyAXpc4laK94U  Mac Miller                  \n1        album  4LLpKhyESsyAXpc4laK94U  Mac Miller                  \n144      album  4LLpKhyESsyAXpc4laK94U  Mac Miller                  ",
            "text/html": "<div>\n<style scoped>\n    .dataframe tbody tr th:only-of-type {\n        vertical-align: middle;\n    }\n\n    .dataframe tbody tr th {\n        vertical-align: top;\n    }\n\n    .dataframe thead th {\n        text-align: right;\n    }\n</style>\n<table border=\"1\" class=\"dataframe\">\n  <thead>\n    <tr style=\"text-align: right;\">\n      <th></th>\n      <th>id</th>\n      <th>name</th>\n      <th>duration_ms</th>\n      <th>popularity</th>\n      <th>track_number</th>\n      <th>album_id</th>\n      <th>album_name</th>\n      <th>album_release_date</th>\n      <th>album_total_tracks</th>\n      <th>album_cover</th>\n      <th>album_type</th>\n      <th>artist_id</th>\n      <th>artist_name</th>\n      <th>featured_artist</th>\n    </tr>\n  </thead>\n  <tbody>\n    <tr>\n      <th>238</th>\n      <td>27gJm5GVMhseR4daRo8UVQ</td>\n      <td>Get Em Up</td>\n      <td>186238</td>\n      <td>42</td>\n      <td>3</td>\n      <td>1jzqEyjugAp9iLtRsj9LZg</td>\n      <td>K.I.D.S.</td>\n      <td>2010-08-13</td>\n      <td>16</td>\n      <td>https://i.scdn.co/image/ab67616d0000b2739d37f9...</td>\n      <td>album</td>\n      <td>4LLpKhyESsyAXpc4laK94U</td>\n      <td>Mac Miller</td>\n      <td></td>\n    </tr>\n    <tr>\n      <th>235</th>\n      <td>3l5r1zd9EWibbvOhBM8sQR</td>\n      <td>Back In The Day</td>\n      <td>246865</td>\n      <td>52</td>\n      <td>18</td>\n      <td>6TFm9KGW7Lbxrl2Zsg4X9R</td>\n      <td>K.I.D.S. (Deluxe)</td>\n      <td>2010-08-13</td>\n      <td>18</td>\n      <td>https://i.scdn.co/image/ab67616d0000b273463d73...</td>\n      <td>album</td>\n      <td>4LLpKhyESsyAXpc4laK94U</td>\n      <td>Mac Miller</td>\n      <td></td>\n    </tr>\n    <tr>\n      <th>160</th>\n      <td>2R8dXjdGLvOQAqYgpQXBtl</td>\n      <td>Suplexes Inside of Complexes and Duplexes</td>\n      <td>167437</td>\n      <td>45</td>\n      <td>12</td>\n      <td>5lftuHeYvtCA64xGfUviwS</td>\n      <td>Watching Movies with the Sound Off</td>\n      <td>2013-06-18</td>\n      <td>16</td>\n      <td>https://i.scdn.co/image/ab67616d0000b27331b22e...</td>\n      <td>album</td>\n      <td>4LLpKhyESsyAXpc4laK94U</td>\n      <td>Mac Miller</td>\n      <td></td>\n    </tr>\n    <tr>\n      <th>1</th>\n      <td>3P0mZWUWThSofCgvC9ZJYH</td>\n      <td>Avian</td>\n      <td>196756</td>\n      <td>50</td>\n      <td>2</td>\n      <td>0Wf65emw9eAwbjJ45gMMqp</td>\n      <td>Watching Movies with the Sound Off (10th Anniv...</td>\n      <td>2023-06-23</td>\n      <td>20</td>\n      <td>https://i.scdn.co/image/ab67616d0000b273881358...</td>\n      <td>album</td>\n      <td>4LLpKhyESsyAXpc4laK94U</td>\n      <td>Mac Miller</td>\n      <td></td>\n    </tr>\n    <tr>\n      <th>144</th>\n      <td>4uPGQVcaiUGnNgEDYp0aol</td>\n      <td>Eggs Aisle</td>\n      <td>160066</td>\n      <td>33</td>\n      <td>10</td>\n      <td>1aDhas2rvJmiGw3zVVI3mm</td>\n      <td>Live From Space</td>\n      <td>2013-12-17</td>\n      <td>14</td>\n      <td>https://i.scdn.co/image/ab67616d0000b27331541d...</td>\n      <td>album</td>\n      <td>4LLpKhyESsyAXpc4laK94U</td>\n      <td>Mac Miller</td>\n      <td></td>\n    </tr>\n  </tbody>\n</table>\n</div>"
          },
          "metadata": {}
        }
      ],
      "execution_count": null,
      "block_group": "eed49bc2ce5e4a2685c0d380b8869811"
    },
    {
      "cell_type": "markdown",
      "source": "### Load",
      "metadata": {
        "tags": [],
        "cell_id": "6bdb7e9df6d04f038e345dbfe42d1364",
        "is_collapsed": false,
        "formattedRanges": [],
        "deepnote_cell_type": "text-cell-h3"
      },
      "block_group": "6bdb7e9df6d04f038e345dbfe42d1364"
    },
    {
      "cell_type": "markdown",
      "source": "Creating accesses to upload the dataframe to google big query",
      "metadata": {
        "formattedRanges": [],
        "cell_id": "8683a1dabc2f45968f11f75acec4c9f3",
        "deepnote_cell_type": "text-cell-p"
      },
      "block_group": "355c28b58f01405bb869a01a8617b6e3"
    },
    {
      "cell_type": "code",
      "source": "gbq_key = json.loads(os.environ.get(\"GBQ_KEY_PERSONAL\"))\ncredentials = service_account.Credentials.from_service_account_info(gbq_key)",
      "metadata": {
        "tags": [],
        "source_hash": null,
        "execution_start": 1701226468315,
        "execution_millis": 100,
        "deepnote_to_be_reexecuted": false,
        "cell_id": "da0a8cee97794d73944eeaff25dfca97",
        "deepnote_cell_type": "code"
      },
      "outputs": [],
      "execution_count": null,
      "block_group": "da0a8cee97794d73944eeaff25dfca97"
    },
    {
      "cell_type": "markdown",
      "source": "To avoid problems, we clear the name before uploading.",
      "metadata": {
        "formattedRanges": [],
        "cell_id": "e5197f31a96a4769a5a90e8401036c1a",
        "deepnote_cell_type": "text-cell-p"
      },
      "block_group": "e84c57e083e14eb181b7649177984277"
    },
    {
      "cell_type": "code",
      "source": "artist = df['artist_name'][0].lower()\nartist = re.sub('\\s','_', artist)\nartist = re.sub('[\\.,-]','', artist)",
      "metadata": {
        "tags": [],
        "cell_id": "457a9c37678c4cb8838b02e235bdd995",
        "source_hash": null,
        "execution_start": 1701226468316,
        "execution_millis": 98,
        "deepnote_to_be_reexecuted": false,
        "deepnote_cell_type": "code"
      },
      "outputs": [],
      "execution_count": null,
      "block_group": "457a9c37678c4cb8838b02e235bdd995"
    },
    {
      "cell_type": "markdown",
      "source": "I create 2 datasets in big query one to store the artist name and another to feed the dashboard.",
      "metadata": {
        "formattedRanges": [],
        "cell_id": "a24119a3d26743858856896d6eac24a1",
        "deepnote_cell_type": "text-cell-p"
      },
      "block_group": "6d80fc33bec8488baf3e57f1f65c56fb"
    },
    {
      "cell_type": "code",
      "source": "df.to_gbq(\n    destination_table=f'spotify.{artist}',\n    project_id='general-project-352815',\n    if_exists='replace',\n    credentials=credentials\n    )",
      "metadata": {
        "tags": [],
        "source_hash": null,
        "execution_start": 1701226468336,
        "execution_millis": 4003,
        "deepnote_to_be_reexecuted": false,
        "cell_id": "56ce994a581042dea9324ff67ab4c5c7",
        "deepnote_cell_type": "code"
      },
      "outputs": [
        {
          "name": "stderr",
          "text": "100%|██████████| 1/1 [00:00<00:00, 12372.58it/s]\n",
          "output_type": "stream"
        }
      ],
      "execution_count": null,
      "block_group": "56ce994a581042dea9324ff67ab4c5c7"
    },
    {
      "cell_type": "code",
      "source": " df.to_gbq(\n    destination_table=f'spotify.dashboard',\n    project_id='general-project-352815',\n    if_exists='replace',\n    credentials=credentials\n    )",
      "metadata": {
        "tags": [],
        "source_hash": null,
        "execution_start": 1701226472341,
        "execution_millis": 3686,
        "deepnote_to_be_reexecuted": false,
        "cell_id": "972eb927208b46ee892e80818205335d",
        "deepnote_cell_type": "code"
      },
      "outputs": [
        {
          "name": "stderr",
          "text": "100%|██████████| 1/1 [00:00<00:00, 19328.59it/s]\n",
          "output_type": "stream"
        }
      ],
      "execution_count": null,
      "block_group": "972eb927208b46ee892e80818205335d"
    },
    {
      "cell_type": "markdown",
      "source": "<a style='text-decoration:none;line-height:16px;display:flex;color:#5B5B62;padding:10px;justify-content:end;' href='https://deepnote.com?utm_source=created-in-deepnote-cell&projectId=39e57b38-a904-448a-a82a-d21973fb598d' target=\"_blank\">\n<img alt='Created in deepnote.com' style='display:inline;max-height:16px;margin:0px;margin-right:7.5px;' src='data:image/svg+xml;base64,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' > </img>\nCreated in <span style='font-weight:600;margin-left:4px;'>Deepnote</span></a>",
      "metadata": {
        "created_in_deepnote_cell": true,
        "deepnote_cell_type": "markdown"
      }
    }
  ],
  "nbformat": 4,
  "nbformat_minor": 0,
  "metadata": {
    "deepnote_persisted_session": {
      "createdAt": "2024-01-12T19:45:18.016Z"
    },
    "deepnote_notebook_id": "7592d18811a3410c8ebb7e5374f26be9",
    "deepnote_execution_queue": []
  }
}